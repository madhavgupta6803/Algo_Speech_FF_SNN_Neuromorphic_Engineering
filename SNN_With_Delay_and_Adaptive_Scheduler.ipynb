{
  "cells": [
    {
      "cell_type": "markdown",
      "source": [
        "### Install and import necessary libraries\n"
      ],
      "metadata": {
        "id": "kPNRQSFARAIp"
      }
    },
    {
      "cell_type": "code",
      "source": [
        "!pip install snntorch\n",
        "!pip install tonic"
      ],
      "metadata": {
        "colab": {
          "base_uri": "https://localhost:8080/"
        },
        "id": "Y3D024vFD9VT",
        "outputId": "368ebe10-baaf-4de7-80ed-a94cabc90b26"
      },
      "execution_count": 1,
      "outputs": [
        {
          "output_type": "stream",
          "name": "stdout",
          "text": [
            "Collecting snntorch\n",
            "  Downloading snntorch-0.9.1-py2.py3-none-any.whl.metadata (16 kB)\n",
            "Requirement already satisfied: torch>=1.1.0 in /usr/local/lib/python3.10/dist-packages (from snntorch) (2.5.1+cu121)\n",
            "Requirement already satisfied: pandas in /usr/local/lib/python3.10/dist-packages (from snntorch) (2.2.2)\n",
            "Requirement already satisfied: matplotlib in /usr/local/lib/python3.10/dist-packages (from snntorch) (3.8.0)\n",
            "Requirement already satisfied: numpy>=1.17 in /usr/local/lib/python3.10/dist-packages (from snntorch) (1.26.4)\n",
            "Collecting nir (from snntorch)\n",
            "  Downloading nir-1.0.4-py3-none-any.whl.metadata (5.8 kB)\n",
            "Collecting nirtorch (from snntorch)\n",
            "  Downloading nirtorch-1.0-py3-none-any.whl.metadata (3.6 kB)\n",
            "Requirement already satisfied: filelock in /usr/local/lib/python3.10/dist-packages (from torch>=1.1.0->snntorch) (3.16.1)\n",
            "Requirement already satisfied: typing-extensions>=4.8.0 in /usr/local/lib/python3.10/dist-packages (from torch>=1.1.0->snntorch) (4.12.2)\n",
            "Requirement already satisfied: networkx in /usr/local/lib/python3.10/dist-packages (from torch>=1.1.0->snntorch) (3.4.2)\n",
            "Requirement already satisfied: jinja2 in /usr/local/lib/python3.10/dist-packages (from torch>=1.1.0->snntorch) (3.1.4)\n",
            "Requirement already satisfied: fsspec in /usr/local/lib/python3.10/dist-packages (from torch>=1.1.0->snntorch) (2024.10.0)\n",
            "Requirement already satisfied: sympy==1.13.1 in /usr/local/lib/python3.10/dist-packages (from torch>=1.1.0->snntorch) (1.13.1)\n",
            "Requirement already satisfied: mpmath<1.4,>=1.1.0 in /usr/local/lib/python3.10/dist-packages (from sympy==1.13.1->torch>=1.1.0->snntorch) (1.3.0)\n",
            "Requirement already satisfied: contourpy>=1.0.1 in /usr/local/lib/python3.10/dist-packages (from matplotlib->snntorch) (1.3.1)\n",
            "Requirement already satisfied: cycler>=0.10 in /usr/local/lib/python3.10/dist-packages (from matplotlib->snntorch) (0.12.1)\n",
            "Requirement already satisfied: fonttools>=4.22.0 in /usr/local/lib/python3.10/dist-packages (from matplotlib->snntorch) (4.55.0)\n",
            "Requirement already satisfied: kiwisolver>=1.0.1 in /usr/local/lib/python3.10/dist-packages (from matplotlib->snntorch) (1.4.7)\n",
            "Requirement already satisfied: packaging>=20.0 in /usr/local/lib/python3.10/dist-packages (from matplotlib->snntorch) (24.2)\n",
            "Requirement already satisfied: pillow>=6.2.0 in /usr/local/lib/python3.10/dist-packages (from matplotlib->snntorch) (11.0.0)\n",
            "Requirement already satisfied: pyparsing>=2.3.1 in /usr/local/lib/python3.10/dist-packages (from matplotlib->snntorch) (3.2.0)\n",
            "Requirement already satisfied: python-dateutil>=2.7 in /usr/local/lib/python3.10/dist-packages (from matplotlib->snntorch) (2.8.2)\n",
            "Requirement already satisfied: h5py in /usr/local/lib/python3.10/dist-packages (from nir->snntorch) (3.12.1)\n",
            "Requirement already satisfied: pytz>=2020.1 in /usr/local/lib/python3.10/dist-packages (from pandas->snntorch) (2024.2)\n",
            "Requirement already satisfied: tzdata>=2022.7 in /usr/local/lib/python3.10/dist-packages (from pandas->snntorch) (2024.2)\n",
            "Requirement already satisfied: six>=1.5 in /usr/local/lib/python3.10/dist-packages (from python-dateutil>=2.7->matplotlib->snntorch) (1.16.0)\n",
            "Requirement already satisfied: MarkupSafe>=2.0 in /usr/local/lib/python3.10/dist-packages (from jinja2->torch>=1.1.0->snntorch) (3.0.2)\n",
            "Downloading snntorch-0.9.1-py2.py3-none-any.whl (125 kB)\n",
            "\u001b[2K   \u001b[90m━━━━━━━━━━━━━━━━━━━━━━━━━━━━━━━━━━━━━━━━\u001b[0m \u001b[32m125.3/125.3 kB\u001b[0m \u001b[31m6.1 MB/s\u001b[0m eta \u001b[36m0:00:00\u001b[0m\n",
            "\u001b[?25hDownloading nir-1.0.4-py3-none-any.whl (18 kB)\n",
            "Downloading nirtorch-1.0-py3-none-any.whl (13 kB)\n",
            "Installing collected packages: nir, nirtorch, snntorch\n",
            "Successfully installed nir-1.0.4 nirtorch-1.0 snntorch-0.9.1\n",
            "Collecting tonic\n",
            "  Downloading tonic-1.5.0-py3-none-any.whl.metadata (5.4 kB)\n",
            "Requirement already satisfied: numpy<2.0.0 in /usr/local/lib/python3.10/dist-packages (from tonic) (1.26.4)\n",
            "Requirement already satisfied: h5py in /usr/local/lib/python3.10/dist-packages (from tonic) (3.12.1)\n",
            "Collecting importRosbag>=1.0.4 (from tonic)\n",
            "  Downloading importRosbag-1.0.4-py3-none-any.whl.metadata (4.3 kB)\n",
            "Requirement already satisfied: scipy in /usr/local/lib/python3.10/dist-packages (from tonic) (1.13.1)\n",
            "Requirement already satisfied: tqdm in /usr/local/lib/python3.10/dist-packages (from tonic) (4.66.6)\n",
            "Requirement already satisfied: typing-extensions in /usr/local/lib/python3.10/dist-packages (from tonic) (4.12.2)\n",
            "Requirement already satisfied: librosa in /usr/local/lib/python3.10/dist-packages (from tonic) (0.10.2.post1)\n",
            "Collecting pbr (from tonic)\n",
            "  Downloading pbr-6.1.0-py2.py3-none-any.whl.metadata (3.4 kB)\n",
            "Collecting expelliarmus (from tonic)\n",
            "  Downloading expelliarmus-1.1.12-cp310-cp310-manylinux_2_5_x86_64.manylinux1_x86_64.manylinux_2_17_x86_64.manylinux2014_x86_64.whl.metadata (13 kB)\n",
            "Requirement already satisfied: setuptools in /usr/local/lib/python3.10/dist-packages (from importRosbag>=1.0.4->tonic) (75.1.0)\n",
            "Requirement already satisfied: audioread>=2.1.9 in /usr/local/lib/python3.10/dist-packages (from librosa->tonic) (3.0.1)\n",
            "Requirement already satisfied: scikit-learn>=0.20.0 in /usr/local/lib/python3.10/dist-packages (from librosa->tonic) (1.5.2)\n",
            "Requirement already satisfied: joblib>=0.14 in /usr/local/lib/python3.10/dist-packages (from librosa->tonic) (1.4.2)\n",
            "Requirement already satisfied: decorator>=4.3.0 in /usr/local/lib/python3.10/dist-packages (from librosa->tonic) (4.4.2)\n",
            "Requirement already satisfied: numba>=0.51.0 in /usr/local/lib/python3.10/dist-packages (from librosa->tonic) (0.60.0)\n",
            "Requirement already satisfied: soundfile>=0.12.1 in /usr/local/lib/python3.10/dist-packages (from librosa->tonic) (0.12.1)\n",
            "Requirement already satisfied: pooch>=1.1 in /usr/local/lib/python3.10/dist-packages (from librosa->tonic) (1.8.2)\n",
            "Requirement already satisfied: soxr>=0.3.2 in /usr/local/lib/python3.10/dist-packages (from librosa->tonic) (0.5.0.post1)\n",
            "Requirement already satisfied: lazy-loader>=0.1 in /usr/local/lib/python3.10/dist-packages (from librosa->tonic) (0.4)\n",
            "Requirement already satisfied: msgpack>=1.0 in /usr/local/lib/python3.10/dist-packages (from librosa->tonic) (1.1.0)\n",
            "Requirement already satisfied: packaging in /usr/local/lib/python3.10/dist-packages (from lazy-loader>=0.1->librosa->tonic) (24.2)\n",
            "Requirement already satisfied: llvmlite<0.44,>=0.43.0dev0 in /usr/local/lib/python3.10/dist-packages (from numba>=0.51.0->librosa->tonic) (0.43.0)\n",
            "Requirement already satisfied: platformdirs>=2.5.0 in /usr/local/lib/python3.10/dist-packages (from pooch>=1.1->librosa->tonic) (4.3.6)\n",
            "Requirement already satisfied: requests>=2.19.0 in /usr/local/lib/python3.10/dist-packages (from pooch>=1.1->librosa->tonic) (2.32.3)\n",
            "Requirement already satisfied: threadpoolctl>=3.1.0 in /usr/local/lib/python3.10/dist-packages (from scikit-learn>=0.20.0->librosa->tonic) (3.5.0)\n",
            "Requirement already satisfied: cffi>=1.0 in /usr/local/lib/python3.10/dist-packages (from soundfile>=0.12.1->librosa->tonic) (1.17.1)\n",
            "Requirement already satisfied: pycparser in /usr/local/lib/python3.10/dist-packages (from cffi>=1.0->soundfile>=0.12.1->librosa->tonic) (2.22)\n",
            "Requirement already satisfied: charset-normalizer<4,>=2 in /usr/local/lib/python3.10/dist-packages (from requests>=2.19.0->pooch>=1.1->librosa->tonic) (3.4.0)\n",
            "Requirement already satisfied: idna<4,>=2.5 in /usr/local/lib/python3.10/dist-packages (from requests>=2.19.0->pooch>=1.1->librosa->tonic) (3.10)\n",
            "Requirement already satisfied: urllib3<3,>=1.21.1 in /usr/local/lib/python3.10/dist-packages (from requests>=2.19.0->pooch>=1.1->librosa->tonic) (2.2.3)\n",
            "Requirement already satisfied: certifi>=2017.4.17 in /usr/local/lib/python3.10/dist-packages (from requests>=2.19.0->pooch>=1.1->librosa->tonic) (2024.8.30)\n",
            "Downloading tonic-1.5.0-py3-none-any.whl (116 kB)\n",
            "\u001b[2K   \u001b[90m━━━━━━━━━━━━━━━━━━━━━━━━━━━━━━━━━━━━━━━━\u001b[0m \u001b[32m116.6/116.6 kB\u001b[0m \u001b[31m9.8 MB/s\u001b[0m eta \u001b[36m0:00:00\u001b[0m\n",
            "\u001b[?25hDownloading importRosbag-1.0.4-py3-none-any.whl (28 kB)\n",
            "Downloading expelliarmus-1.1.12-cp310-cp310-manylinux_2_5_x86_64.manylinux1_x86_64.manylinux_2_17_x86_64.manylinux2014_x86_64.whl (50 kB)\n",
            "\u001b[2K   \u001b[90m━━━━━━━━━━━━━━━━━━━━━━━━━━━━━━━━━━━━━━━━\u001b[0m \u001b[32m50.4/50.4 kB\u001b[0m \u001b[31m4.4 MB/s\u001b[0m eta \u001b[36m0:00:00\u001b[0m\n",
            "\u001b[?25hDownloading pbr-6.1.0-py2.py3-none-any.whl (108 kB)\n",
            "\u001b[2K   \u001b[90m━━━━━━━━━━━━━━━━━━━━━━━━━━━━━━━━━━━━━━━━\u001b[0m \u001b[32m108.5/108.5 kB\u001b[0m \u001b[31m9.9 MB/s\u001b[0m eta \u001b[36m0:00:00\u001b[0m\n",
            "\u001b[?25hInstalling collected packages: pbr, importRosbag, expelliarmus, tonic\n",
            "Successfully installed expelliarmus-1.1.12 importRosbag-1.0.4 pbr-6.1.0 tonic-1.5.0\n"
          ]
        }
      ]
    },
    {
      "cell_type": "code",
      "execution_count": 2,
      "metadata": {
        "id": "4cPMbeTIDzcM"
      },
      "outputs": [],
      "source": [
        "import torch\n",
        "import snntorch\n",
        "device = torch.device(\"cuda\" if torch.cuda.is_available() else \"cpu\")\n",
        "torch.cuda.set_per_process_memory_fraction(0.85, device=0)\n",
        "\n",
        "import numpy as np\n",
        "\n",
        "import tonic\n",
        "from tonic import datasets, transforms\n",
        "import torchvision as tv\n",
        "from torch.utils.data import DataLoader, Subset\n",
        "from sklearn.model_selection import train_test_split\n",
        "from collections import namedtuple\n",
        "\n",
        "State = namedtuple(\"State\", \"obs labels\")"
      ]
    },
    {
      "cell_type": "markdown",
      "source": [
        "### SHD2Raster: Tool for Rasterizing SHD (Spiking Neural Network) Samples into Frames"
      ],
      "metadata": {
        "id": "HlvlUdwWRR8c"
      }
    },
    {
      "cell_type": "code",
      "execution_count": 3,
      "metadata": {
        "id": "J0yEfiv_DzcP"
      },
      "outputs": [],
      "source": [
        "class _SHD2Raster():\n",
        "    \"\"\"\n",
        "    Tool for rastering SHD samples into frames.\n",
        "    This class is used to convert event-based data into a frame format suitable for use in neural networks.\n",
        "    It packs bits along the temporal axis for memory efficiency, meaning the user will need to apply\n",
        "    `jnp.unpackbits(events, axis=<time axis>)` prior to feeding the data into the network.\n",
        "    \"\"\"\n",
        "\n",
        "    def __init__(self, encoding_dim, sample_T = 100):\n",
        "        \"\"\"\n",
        "        Initializes the rasterizer with the desired encoding dimension and the sample duration.\n",
        "\n",
        "        Args:\n",
        "            encoding_dim (int): The number of possible spatial locations in the raster (i.e., width of the frame).\n",
        "            sample_T (int, optional): The number of time steps to consider from the event stream. Defaults to 100.\n",
        "        \"\"\"\n",
        "        self.encoding_dim = encoding_dim  # Set the encoding dimension (width of the frame)\n",
        "        self.sample_T = sample_T  # Set the number of time steps to sample\n",
        "\n",
        "    def __call__(self, events):\n",
        "        \"\"\"\n",
        "        Converts event-based data into a rasterized tensor format for neural network input.\n",
        "\n",
        "        Args:\n",
        "            events (dict): A dictionary containing event-based data, which should include:\n",
        "                - \"t\": Array of time steps for each event\n",
        "                - \"x\": Array of spatial indices for each event\n",
        "\n",
        "        Returns:\n",
        "            numpy.ndarray: A binary tensor representing the rasterized events, shaped as [time_steps, encoding_dim].\n",
        "        \"\"\"\n",
        "\n",
        "        # Initialize a zero matrix with shape (max_time_step+1, encoding_dim), to hold the event counts\n",
        "        tensor = np.zeros((events[\"t\"].max() + 1, self.encoding_dim), dtype=int)\n",
        "\n",
        "        # Increment the corresponding positions in the tensor where events occurred (based on time 't' and spatial location 'x')\n",
        "        np.add.at(tensor, (events[\"t\"], events[\"x\"]), 1)\n",
        "\n",
        "        # Only keep the first 'sample_T' time steps\n",
        "        tensor = tensor[:self.sample_T, :]\n",
        "\n",
        "        # Set all values greater than 1 to 1, ensuring it's a binary representation\n",
        "        tensor = np.minimum(tensor, 1)\n",
        "\n",
        "        # Return the rasterized tensor\n",
        "        return tensor\n"
      ]
    },
    {
      "cell_type": "markdown",
      "source": [
        "### Dowloading and Transforming SHD Dataset"
      ],
      "metadata": {
        "id": "nvP6XEl3RYDM"
      }
    },
    {
      "cell_type": "code",
      "execution_count": 4,
      "metadata": {
        "id": "06qZzsw2DzcP",
        "colab": {
          "base_uri": "https://localhost:8080/",
          "height": 154,
          "referenced_widgets": [
            "6f8b9caf6546464389b0899382765f2f",
            "93df306fc11940aa9c05edb416054d74",
            "044d5ebb397a43839b4858f246878188",
            "cdb29bf7948d4b73a892f2ae641c017a",
            "52f48cdba2a44644b1c5b1185f312feb",
            "66d76c9507cd4be4b04d969c5b5bd7e2",
            "b0e0bcaa179e4d54a1cebfbc373a409a",
            "986b0eaeb9e14986ac9732e6179f1d91",
            "6d70278c73e04a6ab70a4a991e318a4c",
            "af005134917c455497d6c66781ba43b7",
            "1968c759d0064a8eb3f6c056f195bbef",
            "e1ce7eae93dc4e21b05422aa382be136",
            "ceb4a402f5034bf090615286f376ca9f",
            "5041f8b98d28471e9feb5b862c42723d",
            "2a46524e249b4780b9b724efa726449b",
            "c7aeb50550b843fa94506497f278cfa5",
            "cec14af405ff4c36a0a077141fbf2615",
            "4d183666dbd54459818a7667d3561961",
            "ce60d98402b54915a501f060853f1f14",
            "fed48890acd74fd7baabf73e772a550e",
            "1686b83f55af448e8b8bb1a643ad4983",
            "394b8c950fbf4dff8aafecd10bf3c341"
          ]
        },
        "outputId": "e6308b69-f272-4975-d14c-fa3a490f781f"
      },
      "outputs": [
        {
          "output_type": "stream",
          "name": "stdout",
          "text": [
            "Downloading https://zenkelab.org/datasets/shd_train.h5.zip to ./data/SHD/shd_train.h5.zip\n"
          ]
        },
        {
          "output_type": "display_data",
          "data": {
            "text/plain": [
              "  0%|          | 0/130863613 [00:00<?, ?it/s]"
            ],
            "application/vnd.jupyter.widget-view+json": {
              "version_major": 2,
              "version_minor": 0,
              "model_id": "6f8b9caf6546464389b0899382765f2f"
            }
          },
          "metadata": {}
        },
        {
          "output_type": "stream",
          "name": "stdout",
          "text": [
            "Extracting ./data/SHD/shd_train.h5.zip to ./data/SHD\n",
            "Downloading https://zenkelab.org/datasets/shd_test.h5.zip to ./data/SHD/shd_test.h5.zip\n"
          ]
        },
        {
          "output_type": "display_data",
          "data": {
            "text/plain": [
              "  0%|          | 0/38141465 [00:00<?, ?it/s]"
            ],
            "application/vnd.jupyter.widget-view+json": {
              "version_major": 2,
              "version_minor": 0,
              "model_id": "e1ce7eae93dc4e21b05422aa382be136"
            }
          },
          "metadata": {}
        },
        {
          "output_type": "stream",
          "name": "stdout",
          "text": [
            "Extracting ./data/SHD/shd_test.h5.zip to ./data/SHD\n"
          ]
        }
      ],
      "source": [
        "# Define constants and parameters for processing\n",
        "sample_T = 64                 # Number of timesteps to sample for the rasterized input\n",
        "shd_timestep = 1e-6           # Time resolution of the SHD dataset in seconds (1 microsecond)\n",
        "shd_channels = 700            # Number of spatial channels in the SHD dataset\n",
        "net_channels = 128            # Number of spatial channels in the network\n",
        "net_dt = 1 / sample_T         # Time step for the network (inverse of sample_T)\n",
        "batch_size = 256              # Batch size for training and testing\n",
        "\n",
        "# Define observation and action shapes for the network\n",
        "obs_shape = tuple([net_channels,])  # Shape of the network's input (net_channels spatial dimension)\n",
        "act_shape = tuple([20,])            # Shape of the network's output (e.g., 20 classes)\n",
        "\n",
        "# Define transformations for the dataset\n",
        "transform = transforms.Compose([\n",
        "    # Downsample the data temporally and spatially to match the network's dimensions\n",
        "    transforms.Downsample(\n",
        "        time_factor=shd_timestep / net_dt,        # Factor to reduce the temporal resolution\n",
        "        spatial_factor=net_channels / shd_channels  # Factor to reduce the spatial resolution\n",
        "    ),\n",
        "    # Convert SHD spike trains to rasterized input suitable for the network\n",
        "    _SHD2Raster(net_channels, sample_T=sample_T)\n",
        "])\n",
        "\n",
        "# Load the SHD (Spiking Heidelberg Dataset) for training\n",
        "train_dataset = datasets.SHD(\n",
        "    \"./data\",              # Path to the dataset\n",
        "    train=True,            # Load the training split\n",
        "    transform=transform    # Apply the defined transformations\n",
        ")\n",
        "\n",
        "# Load the SHD dataset for testing\n",
        "test_dataset = datasets.SHD(\n",
        "    \"./data\",              # Path to the dataset\n",
        "    train=False,           # Load the testing split\n",
        "    transform=transform    # Apply the defined transformations\n",
        ")\n"
      ]
    },
    {
      "cell_type": "markdown",
      "source": [
        "### Preparing DataLoader for Training and Testing Datasets with Padded Tensors along with shuffle function for converting data into batches of 256"
      ],
      "metadata": {
        "id": "wF-IznNCLRiM"
      }
    },
    {
      "cell_type": "code",
      "execution_count": 5,
      "metadata": {
        "id": "W493Oa1-DzcQ"
      },
      "outputs": [],
      "source": [
        "# Create a DataLoader to iterate through the training dataset\n",
        "train_dl = iter(DataLoader(\n",
        "    train_dataset,                                  # The SHD training dataset\n",
        "    batch_size=len(train_dataset),                 # Set batch size to the full dataset size\n",
        "    collate_fn=tonic.collation.PadTensors(         # Collate function to pad tensors for uniform dimensions\n",
        "        batch_first=True                           # Ensure the batch dimension comes first\n",
        "    ),\n",
        "    drop_last=True,                                # Drop the last incomplete batch if dataset size is not divisible\n",
        "    shuffle=False                                  # Do not shuffle the dataset\n",
        "))\n",
        "\n",
        "# Extract the first (and only) batch of data from the DataLoader\n",
        "x_train, y_train = next(train_dl)                 # `x_train` contains input data, `y_train` contains labels\n",
        "\n",
        "# Convert the data and labels to 8-bit unsigned integer tensors\n",
        "x_train, y_train = x_train.to(torch.uint8), y_train.to(torch.uint8)\n",
        "\n",
        "# Move the data and labels to the specified device (CPU or GPU)\n",
        "x_train, y_train = x_train.to(device), y_train.to(device)\n"
      ]
    },
    {
      "cell_type": "code",
      "execution_count": 6,
      "metadata": {
        "id": "UDPeZX3TDzcQ"
      },
      "outputs": [],
      "source": [
        "def shuffle(dataset):\n",
        "    x, y = dataset\n",
        "\n",
        "    cutoff = y.shape[0] % batch_size\n",
        "\n",
        "    indices = torch.randperm(y.shape[0])[:-cutoff]\n",
        "    obs, labels = x[indices], y[indices]\n",
        "\n",
        "\n",
        "    obs = torch.reshape(obs, (-1, batch_size) + obs.shape[1:])\n",
        "    labels = torch.reshape(labels, (-1, batch_size)) # should make batch size a global\n",
        "\n",
        "    return State(obs=obs, labels=labels)"
      ]
    },
    {
      "cell_type": "code",
      "execution_count": 7,
      "metadata": {
        "id": "rEYN5O3ODzcQ"
      },
      "outputs": [],
      "source": [
        "test_dl = iter(DataLoader(test_dataset, batch_size=len(test_dataset),\n",
        "                          collate_fn=tonic.collation.PadTensors(batch_first=True), drop_last=True, shuffle=False))\n",
        "\n",
        "x_test, y_test = next(test_dl)\n",
        "x_test, y_test = x_test.to(torch.uint8), y_test.to(torch.uint8)\n",
        "x_test, y_test = x_test.to(device), y_test.to(device)\n",
        "x_test, y_test = shuffle((x_test, y_test))"
      ]
    },
    {
      "cell_type": "code",
      "source": [
        "print(x_train.shape)\n",
        "print(x_test.shape)\n",
        "print(y_train.shape)\n",
        "print(y_test.shape)"
      ],
      "metadata": {
        "colab": {
          "base_uri": "https://localhost:8080/"
        },
        "id": "KugBBG8_6rec",
        "outputId": "5422c662-1228-4477-cd1c-0fe69cbf2655"
      },
      "execution_count": 8,
      "outputs": [
        {
          "output_type": "stream",
          "name": "stdout",
          "text": [
            "torch.Size([8156, 64, 128])\n",
            "torch.Size([8, 256, 64, 128])\n",
            "torch.Size([8156])\n",
            "torch.Size([8, 256])\n"
          ]
        }
      ]
    },
    {
      "cell_type": "markdown",
      "source": [
        "### Adaptive Delay Scheduler Class\n",
        "\n"
      ],
      "metadata": {
        "id": "0M04qHIaPDPt"
      }
    },
    {
      "cell_type": "code",
      "source": [
        "import torch\n",
        "\n",
        "# Define number of hidden units and the maximum delay value\n",
        "num_hidden = 64\n",
        "max_delay = 50\n",
        "\n",
        "class AdaptiveDelayScheduler:\n",
        "    \"\"\"\n",
        "    A class to dynamically adjust the delay cap for neurons during training, based on their delay values\n",
        "    and the fraction of neurons within a sliding window of delays.\n",
        "    \"\"\"\n",
        "\n",
        "    def __init__(self, max_delay, cap_fraction=0.05, sliding_window=2):\n",
        "        \"\"\"\n",
        "        Initializes the adaptive delay scheduler.\n",
        "\n",
        "        Args:\n",
        "        - max_delay (int): Maximum allowable delay cap (θ_d).\n",
        "        - cap_fraction (float): Fraction of neurons within a sliding window (α_θ) to trigger delay cap adjustment.\n",
        "        - sliding_window (int): Size of the sliding window (m) to consider for delay adjustment.\n",
        "        \"\"\"\n",
        "        self.max_delay = max_delay  # Maximum allowable delay\n",
        "        self.cap_fraction = cap_fraction  # Fraction of neurons within sliding window to trigger cap adjustment\n",
        "        self.sliding_window = sliding_window  # Size of the sliding window used to calculate neuron distribution\n",
        "        self.current_delay_cap = max_delay  # Initialize the current delay cap to the maximum value (θ_d)\n",
        "\n",
        "    def adjust_delays(self, delays):\n",
        "        \"\"\"\n",
        "        Adjusts the delays of neurons based on the sliding window and cap fraction criteria.\n",
        "\n",
        "        Args:\n",
        "        - delays (Tensor): A tensor representing the current delay values of neurons.\n",
        "\n",
        "        Returns:\n",
        "        - delays (Tensor): The adjusted delay values after considering the current delay cap and performance.\n",
        "        \"\"\"\n",
        "        # Get the total number of neurons by flattening the delay tensor\n",
        "        num_neurons = delays.numel()\n",
        "\n",
        "        # Create a histogram of the delays, with bins equal to the max_delay value\n",
        "        delay_histogram = torch.histc(delays, bins=self.max_delay, min=0, max=self.max_delay)\n",
        "\n",
        "        # Define the range for the sliding window (α_θ), starting from (current_delay_cap - sliding_window) to current_delay_cap\n",
        "        start_idx = max(0, self.current_delay_cap - self.sliding_window)\n",
        "\n",
        "        # Sum the number of neurons within the sliding window range of delays\n",
        "        sliding_window_sum = delay_histogram[start_idx:self.current_delay_cap + 1].sum()\n",
        "\n",
        "        # Calculate α (the fraction of neurons within the sliding window) by dividing the window sum by the total number of neurons\n",
        "        alpha = sliding_window_sum / num_neurons\n",
        "\n",
        "        # If the fraction α exceeds the cap_fraction threshold, increase the delay cap (θ_d)\n",
        "        if alpha > self.cap_fraction:\n",
        "            self.current_delay_cap += 1  # Increment the delay cap\n",
        "            self.counter = 0  # Reset counter (not used further in this code, might be used for other purposes)\n",
        "\n",
        "        # Clamp (limit) the delay values to the current delay cap (θ_d)\n",
        "        delays = torch.clamp(delays, max=self.current_delay_cap)\n",
        "\n",
        "        # Return the adjusted delays\n",
        "        return delays\n",
        "\n",
        "\n",
        "# Initialize the scheduler with the maximum delay value\n",
        "scheduler = AdaptiveDelayScheduler(max_delay)"
      ],
      "metadata": {
        "id": "czVu0pH8QihZ"
      },
      "execution_count": 32,
      "outputs": []
    },
    {
      "cell_type": "markdown",
      "source": [
        "### Network with 2 Hidden Layers and Delays"
      ],
      "metadata": {
        "id": "FIwGOX2O7cOw"
      }
    },
    {
      "cell_type": "code",
      "source": [
        "import torch.nn as nn\n",
        "import snntorch as snn\n",
        "\n",
        "class NetWithAdaptiveDelays(torch.nn.Module):\n",
        "    \"\"\"\n",
        "    A neural network with adaptive delays for each neuron, utilizing spiking neurons and dynamic delay adjustment\n",
        "    during training. This allows the network to adjust the temporal behavior of neurons dynamically based on\n",
        "    the distribution of delays.\n",
        "    \"\"\"\n",
        "\n",
        "    def __init__(self, num_hidden, max_delay):\n",
        "        \"\"\"\n",
        "        Initialize the network with hidden layers and adaptive delay parameters for each neuron.\n",
        "\n",
        "        Args:\n",
        "        - num_hidden (int): Number of neurons in the hidden layers.\n",
        "        - max_delay (int): Maximum allowable delay for each neuron.\n",
        "        \"\"\"\n",
        "        super().__init__()\n",
        "\n",
        "        # Define the layers of the network\n",
        "        self.fc1 = torch.nn.Linear(128, num_hidden)  # First fully connected layer\n",
        "        self.lif1 = snntorch.Leaky(beta=torch.ones(num_hidden) * 0.5, learn_beta=True)  # First LIF (Leaky Integrate and Fire) neuron layer\n",
        "        self.fc2 = torch.nn.Linear(num_hidden, num_hidden)  # Second fully connected layer\n",
        "        self.lif2 = snntorch.Leaky(beta=torch.ones(num_hidden) * 0.5, learn_beta=True)  # Second LIF layer\n",
        "        self.fc3 = torch.nn.Linear(num_hidden, 20)  # Output layer\n",
        "        self.lif3 = snntorch.Leaky(beta=torch.ones(20) * 0.5, learn_beta=True, reset_mechanism=\"none\")  # Output LIF layer\n",
        "\n",
        "        # Define delay parameters for hidden and output layers (learnable parameters)\n",
        "        self.hidden_delays = nn.Parameter(torch.randint(0, max_delay, (num_hidden,), dtype=torch.float32))  # Delay for hidden neurons\n",
        "        self.output_delays = nn.Parameter(torch.randint(0, max_delay, (20,), dtype=torch.float32))  # Delay for output neurons\n",
        "\n",
        "    def apply_delays_to_sequence(self, spike_train, delays):\n",
        "        \"\"\"\n",
        "        Applies delays to a spike train sequence for each neuron.\n",
        "\n",
        "        Args:\n",
        "        - spike_train (Tensor): A tensor of shape [time, batch, neurons] representing the spike train.\n",
        "        - delays (Tensor): A tensor containing the delay for each neuron.\n",
        "\n",
        "        Returns:\n",
        "        - delayed_spike_train (Tensor): A tensor with the delays applied to each neuron's spike train.\n",
        "        \"\"\"\n",
        "        time_steps, batch_size, num_neurons = spike_train.shape\n",
        "        delayed_spike_train = torch.zeros_like(spike_train)  # Initialize the tensor for delayed spikes\n",
        "\n",
        "        # Loop over each neuron and apply its respective delay\n",
        "        for neuron_idx, delay in enumerate(delays):\n",
        "            delay = int(delay.item())  # Convert the delay to an integer\n",
        "            if delay > 0:\n",
        "                # If delay is greater than zero, shift the spikes forward in time\n",
        "                delayed_spike_train[delay:, :, neuron_idx] = spike_train[:-delay, :, neuron_idx]\n",
        "            else:\n",
        "                # If no delay, keep the spikes unchanged\n",
        "                delayed_spike_train[:, :, neuron_idx] = spike_train[:, :, neuron_idx]\n",
        "\n",
        "        return delayed_spike_train\n",
        "\n",
        "    def forward(self, x):\n",
        "        \"\"\"\n",
        "        Defines the forward pass of the network. This applies delays to the spike trains, computes the membrane\n",
        "        potential, and generates the final output spikes for each neuron.\n",
        "\n",
        "        Args:\n",
        "        - x (Tensor): The input tensor of shape [batch, time, channel].\n",
        "\n",
        "        Returns:\n",
        "        - (Tensor): The output spikes of the network after applying delays and passing through the layers.\n",
        "        \"\"\"\n",
        "        x = x.float()  # Ensure input is of float type\n",
        "        x = x.permute(1, 0, 2)  # Reshape input to [time, batch, channel]\n",
        "\n",
        "        # Initialize the membrane potentials for the LIF neurons at t=0\n",
        "        mem1 = self.lif1.init_leaky()\n",
        "        mem2 = self.lif2.init_leaky()\n",
        "        mem3 = self.lif3.init_leaky()\n",
        "\n",
        "        V = []  # To store the final output spikes\n",
        "        spike_train1 = []  # To collect spikes for the first layer over time\n",
        "\n",
        "        # Iterate over the time steps of the input sequence\n",
        "        for t, step in enumerate(x):\n",
        "            # First layer processing: Compute current input and spike train for first LIF layer\n",
        "            cur1 = self.fc1(step)  # Linear transformation\n",
        "            spk1, mem1 = self.lif1(cur1, mem1)  # LIF neuron dynamics: spiking and updating membrane potential\n",
        "\n",
        "            # Collect spikes from the first layer for delay processing\n",
        "            spike_train1.append(spk1)\n",
        "\n",
        "        # Convert spike train list into a tensor with shape [time, batch, neurons]\n",
        "        spike_train1 = torch.stack(spike_train1, dim=0)\n",
        "\n",
        "        # Apply delays to the spike train\n",
        "        spk1_delayed = self.apply_delays_to_sequence(spike_train1, self.hidden_delays)\n",
        "\n",
        "        # Process delayed spike trains through subsequent layers\n",
        "        for t in range(spk1_delayed.size(0)):\n",
        "            cur2 = self.fc2(spk1_delayed[t])  # Second layer processing\n",
        "            spk2, mem2 = self.lif2(cur2, mem2)  # LIF dynamics for second layer\n",
        "            cur3 = self.fc3(spk2)  # Output layer processing\n",
        "            spk3, mem3 = self.lif3(cur3, mem3)  # LIF dynamics for output layer\n",
        "            V.append(mem3)  # Collect the output spike for each time step\n",
        "\n",
        "        # Return the stacked output spikes [batch, time, neurons]\n",
        "        return torch.stack(V, axis=0).permute(1, 0, 2)\n",
        "\n",
        "    def update_delays(self, scheduler):\n",
        "        \"\"\"\n",
        "        Updates the delay values for hidden layer using the AdaptiveDelayScheduler.\n",
        "\n",
        "        Args:\n",
        "        - scheduler (AdaptiveDelayScheduler): An instance of the scheduler that adjusts the delays based on performance.\n",
        "        \"\"\"\n",
        "        # Update the delay values for hidden layer using the scheduler\n",
        "        self.hidden_delays.data = scheduler.adjust_delays(self.hidden_delays)"
      ],
      "metadata": {
        "id": "fv6IK4U1PMsS"
      },
      "execution_count": 35,
      "outputs": []
    },
    {
      "cell_type": "code",
      "source": [
        "device = 'cuda' if torch.cuda.is_available() else 'cpu'\n",
        "net = NetWithAdaptiveDelays(num_hidden, max_delay).to(device)"
      ],
      "metadata": {
        "id": "Y3Yn51uDPifp"
      },
      "execution_count": 36,
      "outputs": []
    },
    {
      "cell_type": "markdown",
      "source": [
        "### Total Parameters"
      ],
      "metadata": {
        "id": "rM1tCjY6TEXQ"
      }
    },
    {
      "cell_type": "code",
      "source": [
        "total_params = sum(p.numel() for p in net.parameters())\n",
        "\n",
        "print(f\"Total Parameters in the Network: {total_params}\")"
      ],
      "metadata": {
        "colab": {
          "base_uri": "https://localhost:8080/"
        },
        "id": "XBmfzhQuMDwY",
        "outputId": "948b1ced-39e8-48e3-e893-ce6ec45a33ca"
      },
      "execution_count": 39,
      "outputs": [
        {
          "output_type": "stream",
          "name": "stdout",
          "text": [
            "Total Parameters in the Network: 13948\n"
          ]
        }
      ]
    },
    {
      "cell_type": "markdown",
      "source": [
        "### Loss, Optimizer and Accuracy"
      ],
      "metadata": {
        "id": "7hLeaM4ETJR1"
      }
    },
    {
      "cell_type": "code",
      "execution_count": 37,
      "metadata": {
        "id": "T-mupPw9DzcR"
      },
      "outputs": [],
      "source": [
        "# Cross Entropy Loss with label smoothing\n",
        "loss = torch.nn.CrossEntropyLoss(label_smoothing=0.3)\n",
        "\n",
        "# Optimizer: Adam optimizer for training the model\n",
        "# This optimizer is adaptive, adjusting learning rates based on past gradients.\n",
        "optimizer = torch.optim.Adam(net.parameters(), lr=5e-4)\n",
        "\n",
        "# Accuracy calculation function\n",
        "# This lambda function computes the accuracy by comparing the predicted class\n",
        "acc = lambda predictions, targets : (torch.argmax(predictions, axis=-1) == targets).sum().item() / len(targets)"
      ]
    },
    {
      "cell_type": "markdown",
      "source": [
        "### Training and Testing Loop with Graphs"
      ],
      "metadata": {
        "id": "itJBGtuITQuM"
      }
    },
    {
      "cell_type": "code",
      "source": [
        "import matplotlib.pyplot as plt\n",
        "import numpy as np\n",
        "import tqdm\n",
        "\n",
        "num_epochs = 50  # Example number of epochs\n",
        "loss_hist = []\n",
        "train_acc_hist = []\n",
        "test_loss_hist = []\n",
        "test_acc_hist = []\n",
        "\n",
        "# Outer training loop\n",
        "for epoch in tqdm.tqdm(range(num_epochs), desc=\"Training Epochs\"):\n",
        "    # Shuffle and prepare training batch\n",
        "    train_batch = shuffle((x_train, y_train))\n",
        "    train_data, train_targets = train_batch\n",
        "\n",
        "    epoch_loss = 0  # To track average loss for the epoch\n",
        "    batch_train_acc = []  # To track accuracy for the training set in this epoch\n",
        "\n",
        "    # Minibatch training loop\n",
        "    for data, targets in zip(train_data, train_targets):\n",
        "        # Forward pass\n",
        "        net.train()\n",
        "        out_V = net(data)\n",
        "        # Initialize the loss & sum over time\n",
        "        loss_val = loss(torch.sum(out_V, axis=-2), targets)\n",
        "\n",
        "        # Gradient calculation + weight update\n",
        "        optimizer.zero_grad()\n",
        "        loss_val.backward()\n",
        "        optimizer.step()\n",
        "\n",
        "        # Accumulate loss\n",
        "        epoch_loss += loss_val.item()\n",
        "\n",
        "        # Calculate training accuracy\n",
        "        batch_train_acc.append(acc(torch.sum(out_V, axis=-2), targets))\n",
        "\n",
        "\n",
        "    #Update the delays in the net with Adpative Scheduler\n",
        "    net.update_delays(scheduler)\n",
        "    # Compute average loss and accuracy for the epoch\n",
        "    avg_epoch_loss = epoch_loss / len(train_data)\n",
        "    avg_train_acc = np.mean(batch_train_acc) * 100  # Convert accuracy to percentage\n",
        "\n",
        "    loss_hist.append(avg_epoch_loss)\n",
        "    train_acc_hist.append(avg_train_acc)\n",
        "\n",
        "    print(f\"Epoch {epoch+1}: Training Loss = {avg_epoch_loss:.4f}, Training Accuracy = {avg_train_acc:.2f}%\")\n",
        "\n",
        "    # Test set evaluation at the end of each epoch\n",
        "    with torch.no_grad():\n",
        "        batch_test_acc = []\n",
        "        batch_test_loss = []\n",
        "\n",
        "        for test_data, test_targets in zip(x_test, y_test):\n",
        "            net.eval()\n",
        "            # Test set forward pass\n",
        "            out_V = net(test_data)\n",
        "            # Calculate accuracy and loss\n",
        "            batch_test_acc.append(acc(torch.sum(out_V, axis=-2), test_targets))\n",
        "            test_loss = loss(torch.sum(out_V, axis=-2), test_targets).item()\n",
        "            batch_test_loss.append(test_loss)\n",
        "\n",
        "\n",
        "        # Average test accuracy and test loss for the epoch\n",
        "        avg_test_acc = np.mean(batch_test_acc) * 100  # Convert accuracy to percentage\n",
        "        avg_test_loss = np.mean(batch_test_loss)\n",
        "\n",
        "        test_loss_hist.append(avg_test_loss)\n",
        "        test_acc_hist.append(avg_test_acc)\n",
        "\n",
        "        print(f\"Epoch {epoch+1}: Test Loss = {avg_test_loss:.4f}, Test Accuracy = {avg_test_acc:.2f}%\")\n",
        "\n",
        "# Plotting graphs\n",
        "epochs = np.arange(1, num_epochs + 1)\n",
        "\n",
        "# Plot Training and Testing Loss\n",
        "plt.figure(figsize=(8, 6))\n",
        "plt.plot(epochs, loss_hist, label=\"Training Loss\", color=\"blue\")\n",
        "plt.plot(epochs, test_loss_hist, label=\"Testing Loss\", color=\"orange\")\n",
        "plt.xlabel(\"Epochs\")\n",
        "plt.ylabel(\"Loss\")\n",
        "plt.title(\"Training and Testing Loss vs. Epochs\")\n",
        "plt.legend()\n",
        "plt.grid(True)\n",
        "plt.show()\n",
        "\n",
        "# Plot Training and Testing Accuracy\n",
        "plt.figure(figsize=(8, 6))\n",
        "plt.plot(epochs, train_acc_hist, label=\"Training Accuracy\", color=\"blue\")\n",
        "plt.plot(epochs, test_acc_hist, label=\"Testing Accuracy\", color=\"green\")\n",
        "plt.xlabel(\"Epochs\")\n",
        "plt.ylabel(\"Accuracy (%)\")\n",
        "plt.title(\"Training and Testing Accuracy vs. Epochs\")\n",
        "plt.legend()\n",
        "plt.grid(True)\n",
        "plt.show()\n"
      ],
      "metadata": {
        "colab": {
          "base_uri": "https://localhost:8080/",
          "height": 1000
        },
        "id": "4YMe70Ce9uEp",
        "outputId": "978503cc-1372-47ab-a052-37e267b0a575"
      },
      "execution_count": 38,
      "outputs": [
        {
          "output_type": "stream",
          "name": "stderr",
          "text": [
            "\rTraining Epochs:   0%|          | 0/50 [00:00<?, ?it/s]"
          ]
        },
        {
          "output_type": "stream",
          "name": "stdout",
          "text": [
            "Epoch 1: Training Loss = 12.7055, Training Accuracy = 4.98%\n"
          ]
        },
        {
          "output_type": "stream",
          "name": "stderr",
          "text": [
            "\rTraining Epochs:   2%|▏         | 1/50 [00:07<06:06,  7.48s/it]"
          ]
        },
        {
          "output_type": "stream",
          "name": "stdout",
          "text": [
            "Epoch 1: Test Loss = 10.9010, Test Accuracy = 4.88%\n",
            "Epoch 2: Training Loss = 8.7841, Training Accuracy = 2.68%\n"
          ]
        },
        {
          "output_type": "stream",
          "name": "stderr",
          "text": [
            "\rTraining Epochs:   4%|▍         | 2/50 [00:14<05:44,  7.18s/it]"
          ]
        },
        {
          "output_type": "stream",
          "name": "stdout",
          "text": [
            "Epoch 2: Test Loss = 5.6423, Test Accuracy = 0.68%\n",
            "Epoch 3: Training Loss = 4.5058, Training Accuracy = 4.30%\n"
          ]
        },
        {
          "output_type": "stream",
          "name": "stderr",
          "text": [
            "\rTraining Epochs:   6%|▌         | 3/50 [00:21<05:41,  7.26s/it]"
          ]
        },
        {
          "output_type": "stream",
          "name": "stdout",
          "text": [
            "Epoch 3: Test Loss = 3.7290, Test Accuracy = 7.32%\n",
            "Epoch 4: Training Loss = 3.4214, Training Accuracy = 6.14%\n"
          ]
        },
        {
          "output_type": "stream",
          "name": "stderr",
          "text": [
            "\rTraining Epochs:   8%|▊         | 4/50 [00:28<05:22,  7.02s/it]"
          ]
        },
        {
          "output_type": "stream",
          "name": "stdout",
          "text": [
            "Epoch 4: Test Loss = 3.3380, Test Accuracy = 8.40%\n",
            "Epoch 5: Training Loss = 3.2338, Training Accuracy = 7.36%\n"
          ]
        },
        {
          "output_type": "stream",
          "name": "stderr",
          "text": [
            "\rTraining Epochs:  10%|█         | 5/50 [00:35<05:19,  7.10s/it]"
          ]
        },
        {
          "output_type": "stream",
          "name": "stdout",
          "text": [
            "Epoch 5: Test Loss = 3.1538, Test Accuracy = 10.21%\n",
            "Epoch 6: Training Loss = 3.0685, Training Accuracy = 11.25%\n"
          ]
        },
        {
          "output_type": "stream",
          "name": "stderr",
          "text": [
            "\rTraining Epochs:  12%|█▏        | 6/50 [00:42<05:14,  7.15s/it]"
          ]
        },
        {
          "output_type": "stream",
          "name": "stdout",
          "text": [
            "Epoch 6: Test Loss = 2.9799, Test Accuracy = 13.72%\n",
            "Epoch 7: Training Loss = 2.9154, Training Accuracy = 15.40%\n"
          ]
        },
        {
          "output_type": "stream",
          "name": "stderr",
          "text": [
            "\rTraining Epochs:  14%|█▍        | 7/50 [00:49<05:03,  7.05s/it]"
          ]
        },
        {
          "output_type": "stream",
          "name": "stdout",
          "text": [
            "Epoch 7: Test Loss = 2.8021, Test Accuracy = 19.29%\n",
            "Epoch 8: Training Loss = 2.7717, Training Accuracy = 21.13%\n"
          ]
        },
        {
          "output_type": "stream",
          "name": "stderr",
          "text": [
            "\rTraining Epochs:  16%|█▌        | 8/50 [00:57<05:04,  7.25s/it]"
          ]
        },
        {
          "output_type": "stream",
          "name": "stdout",
          "text": [
            "Epoch 8: Test Loss = 2.6488, Test Accuracy = 27.25%\n",
            "Epoch 9: Training Loss = 2.6611, Training Accuracy = 27.02%\n"
          ]
        },
        {
          "output_type": "stream",
          "name": "stderr",
          "text": [
            "\rTraining Epochs:  18%|█▊        | 9/50 [01:04<04:56,  7.23s/it]"
          ]
        },
        {
          "output_type": "stream",
          "name": "stdout",
          "text": [
            "Epoch 9: Test Loss = 2.5481, Test Accuracy = 34.47%\n",
            "Epoch 10: Training Loss = 2.5758, Training Accuracy = 32.51%\n"
          ]
        },
        {
          "output_type": "stream",
          "name": "stderr",
          "text": [
            "\rTraining Epochs:  20%|██        | 10/50 [01:11<04:50,  7.26s/it]"
          ]
        },
        {
          "output_type": "stream",
          "name": "stdout",
          "text": [
            "Epoch 10: Test Loss = 2.4784, Test Accuracy = 38.53%\n",
            "Epoch 11: Training Loss = 2.5310, Training Accuracy = 35.36%\n"
          ]
        },
        {
          "output_type": "stream",
          "name": "stderr",
          "text": [
            "\rTraining Epochs:  22%|██▏       | 11/50 [01:18<04:35,  7.07s/it]"
          ]
        },
        {
          "output_type": "stream",
          "name": "stdout",
          "text": [
            "Epoch 11: Test Loss = 2.4395, Test Accuracy = 41.99%\n",
            "Epoch 12: Training Loss = 2.4887, Training Accuracy = 38.38%\n"
          ]
        },
        {
          "output_type": "stream",
          "name": "stderr",
          "text": [
            "\rTraining Epochs:  24%|██▍       | 12/50 [01:25<04:30,  7.11s/it]"
          ]
        },
        {
          "output_type": "stream",
          "name": "stdout",
          "text": [
            "Epoch 12: Test Loss = 2.4037, Test Accuracy = 45.31%\n",
            "Epoch 13: Training Loss = 2.4496, Training Accuracy = 41.67%\n"
          ]
        },
        {
          "output_type": "stream",
          "name": "stderr",
          "text": [
            "\rTraining Epochs:  26%|██▌       | 13/50 [01:33<04:25,  7.17s/it]"
          ]
        },
        {
          "output_type": "stream",
          "name": "stdout",
          "text": [
            "Epoch 13: Test Loss = 2.3606, Test Accuracy = 46.19%\n",
            "Epoch 14: Training Loss = 2.4174, Training Accuracy = 44.37%\n"
          ]
        },
        {
          "output_type": "stream",
          "name": "stderr",
          "text": [
            "\rTraining Epochs:  28%|██▊       | 14/50 [01:39<04:13,  7.04s/it]"
          ]
        },
        {
          "output_type": "stream",
          "name": "stdout",
          "text": [
            "Epoch 14: Test Loss = 2.3107, Test Accuracy = 50.73%\n",
            "Epoch 15: Training Loss = 2.3763, Training Accuracy = 47.32%\n"
          ]
        },
        {
          "output_type": "stream",
          "name": "stderr",
          "text": [
            "\rTraining Epochs:  30%|███       | 15/50 [01:47<04:09,  7.12s/it]"
          ]
        },
        {
          "output_type": "stream",
          "name": "stdout",
          "text": [
            "Epoch 15: Test Loss = 2.2674, Test Accuracy = 55.08%\n",
            "Epoch 16: Training Loss = 2.3349, Training Accuracy = 51.06%\n"
          ]
        },
        {
          "output_type": "stream",
          "name": "stderr",
          "text": [
            "\rTraining Epochs:  32%|███▏      | 16/50 [01:53<03:56,  6.96s/it]"
          ]
        },
        {
          "output_type": "stream",
          "name": "stdout",
          "text": [
            "Epoch 16: Test Loss = 2.2383, Test Accuracy = 56.98%\n",
            "Epoch 17: Training Loss = 2.2928, Training Accuracy = 54.32%\n"
          ]
        },
        {
          "output_type": "stream",
          "name": "stderr",
          "text": [
            "\rTraining Epochs:  34%|███▍      | 17/50 [02:01<03:52,  7.06s/it]"
          ]
        },
        {
          "output_type": "stream",
          "name": "stdout",
          "text": [
            "Epoch 17: Test Loss = 2.2323, Test Accuracy = 58.25%\n",
            "Epoch 18: Training Loss = 2.2691, Training Accuracy = 56.07%\n"
          ]
        },
        {
          "output_type": "stream",
          "name": "stderr",
          "text": [
            "\rTraining Epochs:  36%|███▌      | 18/50 [02:07<03:40,  6.90s/it]"
          ]
        },
        {
          "output_type": "stream",
          "name": "stdout",
          "text": [
            "Epoch 18: Test Loss = 2.2013, Test Accuracy = 62.70%\n",
            "Epoch 19: Training Loss = 2.2400, Training Accuracy = 58.53%\n"
          ]
        },
        {
          "output_type": "stream",
          "name": "stderr",
          "text": [
            "\rTraining Epochs:  38%|███▊      | 19/50 [02:14<03:38,  7.04s/it]"
          ]
        },
        {
          "output_type": "stream",
          "name": "stdout",
          "text": [
            "Epoch 19: Test Loss = 2.1765, Test Accuracy = 63.82%\n",
            "Epoch 20: Training Loss = 2.2213, Training Accuracy = 59.92%\n"
          ]
        },
        {
          "output_type": "stream",
          "name": "stderr",
          "text": [
            "\rTraining Epochs:  40%|████      | 20/50 [02:21<03:29,  6.97s/it]"
          ]
        },
        {
          "output_type": "stream",
          "name": "stdout",
          "text": [
            "Epoch 20: Test Loss = 2.1539, Test Accuracy = 64.99%\n",
            "Epoch 21: Training Loss = 2.1935, Training Accuracy = 62.92%\n"
          ]
        },
        {
          "output_type": "stream",
          "name": "stderr",
          "text": [
            "\rTraining Epochs:  42%|████▏     | 21/50 [02:28<03:22,  7.00s/it]"
          ]
        },
        {
          "output_type": "stream",
          "name": "stdout",
          "text": [
            "Epoch 21: Test Loss = 2.1544, Test Accuracy = 65.04%\n",
            "Epoch 22: Training Loss = 2.1763, Training Accuracy = 64.00%\n"
          ]
        },
        {
          "output_type": "stream",
          "name": "stderr",
          "text": [
            "\rTraining Epochs:  44%|████▍     | 22/50 [02:36<03:17,  7.06s/it]"
          ]
        },
        {
          "output_type": "stream",
          "name": "stdout",
          "text": [
            "Epoch 22: Test Loss = 2.1478, Test Accuracy = 64.36%\n",
            "Epoch 23: Training Loss = 2.1648, Training Accuracy = 64.48%\n"
          ]
        },
        {
          "output_type": "stream",
          "name": "stderr",
          "text": [
            "\rTraining Epochs:  46%|████▌     | 23/50 [02:42<03:07,  6.94s/it]"
          ]
        },
        {
          "output_type": "stream",
          "name": "stdout",
          "text": [
            "Epoch 23: Test Loss = 2.1394, Test Accuracy = 66.60%\n",
            "Epoch 24: Training Loss = 2.1454, Training Accuracy = 66.05%\n"
          ]
        },
        {
          "output_type": "stream",
          "name": "stderr",
          "text": [
            "\rTraining Epochs:  48%|████▊     | 24/50 [02:49<03:03,  7.05s/it]"
          ]
        },
        {
          "output_type": "stream",
          "name": "stdout",
          "text": [
            "Epoch 24: Test Loss = 2.1209, Test Accuracy = 67.33%\n",
            "Epoch 25: Training Loss = 2.1338, Training Accuracy = 67.26%\n"
          ]
        },
        {
          "output_type": "stream",
          "name": "stderr",
          "text": [
            "\rTraining Epochs:  50%|█████     | 25/50 [02:56<02:52,  6.91s/it]"
          ]
        },
        {
          "output_type": "stream",
          "name": "stdout",
          "text": [
            "Epoch 25: Test Loss = 2.1101, Test Accuracy = 68.36%\n",
            "Epoch 26: Training Loss = 2.1172, Training Accuracy = 68.79%\n"
          ]
        },
        {
          "output_type": "stream",
          "name": "stderr",
          "text": [
            "\rTraining Epochs:  52%|█████▏    | 26/50 [03:03<02:48,  7.03s/it]"
          ]
        },
        {
          "output_type": "stream",
          "name": "stdout",
          "text": [
            "Epoch 26: Test Loss = 2.0985, Test Accuracy = 68.26%\n",
            "Epoch 27: Training Loss = 2.1132, Training Accuracy = 68.13%\n"
          ]
        },
        {
          "output_type": "stream",
          "name": "stderr",
          "text": [
            "\rTraining Epochs:  54%|█████▍    | 27/50 [03:10<02:38,  6.90s/it]"
          ]
        },
        {
          "output_type": "stream",
          "name": "stdout",
          "text": [
            "Epoch 27: Test Loss = 2.1168, Test Accuracy = 67.53%\n",
            "Epoch 28: Training Loss = 2.0970, Training Accuracy = 69.34%\n"
          ]
        },
        {
          "output_type": "stream",
          "name": "stderr",
          "text": [
            "\rTraining Epochs:  56%|█████▌    | 28/50 [03:17<02:33,  7.00s/it]"
          ]
        },
        {
          "output_type": "stream",
          "name": "stdout",
          "text": [
            "Epoch 28: Test Loss = 2.0917, Test Accuracy = 69.24%\n",
            "Epoch 29: Training Loss = 2.0890, Training Accuracy = 70.14%\n"
          ]
        },
        {
          "output_type": "stream",
          "name": "stderr",
          "text": [
            "\rTraining Epochs:  58%|█████▊    | 29/50 [03:24<02:28,  7.05s/it]"
          ]
        },
        {
          "output_type": "stream",
          "name": "stdout",
          "text": [
            "Epoch 29: Test Loss = 2.1127, Test Accuracy = 66.80%\n",
            "Epoch 30: Training Loss = 2.0826, Training Accuracy = 70.06%\n"
          ]
        },
        {
          "output_type": "stream",
          "name": "stderr",
          "text": [
            "\rTraining Epochs:  60%|██████    | 30/50 [03:31<02:19,  6.95s/it]"
          ]
        },
        {
          "output_type": "stream",
          "name": "stdout",
          "text": [
            "Epoch 30: Test Loss = 2.1055, Test Accuracy = 67.97%\n",
            "Epoch 31: Training Loss = 2.0778, Training Accuracy = 70.58%\n"
          ]
        },
        {
          "output_type": "stream",
          "name": "stderr",
          "text": [
            "\rTraining Epochs:  62%|██████▏   | 31/50 [03:38<02:14,  7.08s/it]"
          ]
        },
        {
          "output_type": "stream",
          "name": "stdout",
          "text": [
            "Epoch 31: Test Loss = 2.1048, Test Accuracy = 69.19%\n",
            "Epoch 32: Training Loss = 2.0629, Training Accuracy = 71.91%\n"
          ]
        },
        {
          "output_type": "stream",
          "name": "stderr",
          "text": [
            "\rTraining Epochs:  64%|██████▍   | 32/50 [03:45<02:04,  6.92s/it]"
          ]
        },
        {
          "output_type": "stream",
          "name": "stdout",
          "text": [
            "Epoch 32: Test Loss = 2.0849, Test Accuracy = 70.51%\n",
            "Epoch 33: Training Loss = 2.0618, Training Accuracy = 71.51%\n"
          ]
        },
        {
          "output_type": "stream",
          "name": "stderr",
          "text": [
            "\rTraining Epochs:  66%|██████▌   | 33/50 [03:52<01:59,  7.03s/it]"
          ]
        },
        {
          "output_type": "stream",
          "name": "stdout",
          "text": [
            "Epoch 33: Test Loss = 2.0888, Test Accuracy = 69.82%\n",
            "Epoch 34: Training Loss = 2.0489, Training Accuracy = 72.39%\n"
          ]
        },
        {
          "output_type": "stream",
          "name": "stderr",
          "text": [
            "\rTraining Epochs:  68%|██████▊   | 34/50 [03:59<01:50,  6.90s/it]"
          ]
        },
        {
          "output_type": "stream",
          "name": "stdout",
          "text": [
            "Epoch 34: Test Loss = 2.0748, Test Accuracy = 70.17%\n",
            "Epoch 35: Training Loss = 2.0489, Training Accuracy = 72.28%\n"
          ]
        },
        {
          "output_type": "stream",
          "name": "stderr",
          "text": [
            "\rTraining Epochs:  70%|███████   | 35/50 [04:06<01:45,  7.02s/it]"
          ]
        },
        {
          "output_type": "stream",
          "name": "stdout",
          "text": [
            "Epoch 35: Test Loss = 2.0745, Test Accuracy = 70.95%\n",
            "Epoch 36: Training Loss = 2.0414, Training Accuracy = 72.92%\n"
          ]
        },
        {
          "output_type": "stream",
          "name": "stderr",
          "text": [
            "\rTraining Epochs:  72%|███████▏  | 36/50 [04:13<01:36,  6.92s/it]"
          ]
        },
        {
          "output_type": "stream",
          "name": "stdout",
          "text": [
            "Epoch 36: Test Loss = 2.0969, Test Accuracy = 69.68%\n",
            "Epoch 37: Training Loss = 2.0317, Training Accuracy = 74.21%\n"
          ]
        },
        {
          "output_type": "stream",
          "name": "stderr",
          "text": [
            "\rTraining Epochs:  74%|███████▍  | 37/50 [04:20<01:31,  7.01s/it]"
          ]
        },
        {
          "output_type": "stream",
          "name": "stdout",
          "text": [
            "Epoch 37: Test Loss = 2.0804, Test Accuracy = 69.78%\n",
            "Epoch 38: Training Loss = 2.0338, Training Accuracy = 73.55%\n"
          ]
        },
        {
          "output_type": "stream",
          "name": "stderr",
          "text": [
            "\rTraining Epochs:  76%|███████▌  | 38/50 [04:28<01:25,  7.16s/it]"
          ]
        },
        {
          "output_type": "stream",
          "name": "stdout",
          "text": [
            "Epoch 38: Test Loss = 2.0962, Test Accuracy = 69.48%\n",
            "Epoch 39: Training Loss = 2.0298, Training Accuracy = 73.79%\n"
          ]
        },
        {
          "output_type": "stream",
          "name": "stderr",
          "text": [
            "\rTraining Epochs:  78%|███████▊  | 39/50 [04:34<01:16,  6.99s/it]"
          ]
        },
        {
          "output_type": "stream",
          "name": "stdout",
          "text": [
            "Epoch 39: Test Loss = 2.0989, Test Accuracy = 69.09%\n",
            "Epoch 40: Training Loss = 2.0240, Training Accuracy = 74.81%\n"
          ]
        },
        {
          "output_type": "stream",
          "name": "stderr",
          "text": [
            "\rTraining Epochs:  80%|████████  | 40/50 [04:42<01:11,  7.11s/it]"
          ]
        },
        {
          "output_type": "stream",
          "name": "stdout",
          "text": [
            "Epoch 40: Test Loss = 2.0614, Test Accuracy = 72.12%\n",
            "Epoch 41: Training Loss = 2.0192, Training Accuracy = 74.72%\n"
          ]
        },
        {
          "output_type": "stream",
          "name": "stderr",
          "text": [
            "\rTraining Epochs:  82%|████████▏ | 41/50 [04:48<01:02,  6.95s/it]"
          ]
        },
        {
          "output_type": "stream",
          "name": "stdout",
          "text": [
            "Epoch 41: Test Loss = 2.0800, Test Accuracy = 70.61%\n",
            "Epoch 42: Training Loss = 2.0100, Training Accuracy = 75.15%\n"
          ]
        },
        {
          "output_type": "stream",
          "name": "stderr",
          "text": [
            "\rTraining Epochs:  84%|████████▍ | 42/50 [04:55<00:56,  7.06s/it]"
          ]
        },
        {
          "output_type": "stream",
          "name": "stdout",
          "text": [
            "Epoch 42: Test Loss = 2.0687, Test Accuracy = 71.63%\n",
            "Epoch 43: Training Loss = 2.0052, Training Accuracy = 75.60%\n"
          ]
        },
        {
          "output_type": "stream",
          "name": "stderr",
          "text": [
            "\rTraining Epochs:  86%|████████▌ | 43/50 [05:02<00:48,  6.93s/it]"
          ]
        },
        {
          "output_type": "stream",
          "name": "stdout",
          "text": [
            "Epoch 43: Test Loss = 2.0601, Test Accuracy = 71.92%\n",
            "Epoch 44: Training Loss = 2.0010, Training Accuracy = 75.50%\n"
          ]
        },
        {
          "output_type": "stream",
          "name": "stderr",
          "text": [
            "\rTraining Epochs:  88%|████████▊ | 44/50 [05:09<00:42,  7.05s/it]"
          ]
        },
        {
          "output_type": "stream",
          "name": "stdout",
          "text": [
            "Epoch 44: Test Loss = 2.0676, Test Accuracy = 72.12%\n",
            "Epoch 45: Training Loss = 2.0032, Training Accuracy = 75.18%\n"
          ]
        },
        {
          "output_type": "stream",
          "name": "stderr",
          "text": [
            "\rTraining Epochs:  90%|█████████ | 45/50 [05:16<00:35,  7.04s/it]"
          ]
        },
        {
          "output_type": "stream",
          "name": "stdout",
          "text": [
            "Epoch 45: Test Loss = 2.0343, Test Accuracy = 73.49%\n",
            "Epoch 46: Training Loss = 1.9986, Training Accuracy = 75.58%\n"
          ]
        },
        {
          "output_type": "stream",
          "name": "stderr",
          "text": [
            "\rTraining Epochs:  92%|█████████▏| 46/50 [05:23<00:27,  6.95s/it]"
          ]
        },
        {
          "output_type": "stream",
          "name": "stdout",
          "text": [
            "Epoch 46: Test Loss = 2.0372, Test Accuracy = 73.73%\n",
            "Epoch 47: Training Loss = 1.9927, Training Accuracy = 75.71%\n"
          ]
        },
        {
          "output_type": "stream",
          "name": "stderr",
          "text": [
            "\rTraining Epochs:  94%|█████████▍| 47/50 [05:30<00:21,  7.04s/it]"
          ]
        },
        {
          "output_type": "stream",
          "name": "stdout",
          "text": [
            "Epoch 47: Test Loss = 2.0384, Test Accuracy = 73.58%\n",
            "Epoch 48: Training Loss = 1.9816, Training Accuracy = 76.54%\n"
          ]
        },
        {
          "output_type": "stream",
          "name": "stderr",
          "text": [
            "\rTraining Epochs:  96%|█████████▌| 48/50 [05:37<00:13,  6.91s/it]"
          ]
        },
        {
          "output_type": "stream",
          "name": "stdout",
          "text": [
            "Epoch 48: Test Loss = 2.0273, Test Accuracy = 73.73%\n",
            "Epoch 49: Training Loss = 1.9812, Training Accuracy = 76.86%\n"
          ]
        },
        {
          "output_type": "stream",
          "name": "stderr",
          "text": [
            "\rTraining Epochs:  98%|█████████▊| 49/50 [05:44<00:07,  7.04s/it]"
          ]
        },
        {
          "output_type": "stream",
          "name": "stdout",
          "text": [
            "Epoch 49: Test Loss = 2.0507, Test Accuracy = 72.56%\n",
            "Epoch 50: Training Loss = 1.9680, Training Accuracy = 77.82%\n"
          ]
        },
        {
          "output_type": "stream",
          "name": "stderr",
          "text": [
            "Training Epochs: 100%|██████████| 50/50 [05:51<00:00,  7.03s/it]"
          ]
        },
        {
          "output_type": "stream",
          "name": "stdout",
          "text": [
            "Epoch 50: Test Loss = 2.0416, Test Accuracy = 72.80%\n"
          ]
        },
        {
          "output_type": "stream",
          "name": "stderr",
          "text": [
            "\n"
          ]
        },
        {
          "output_type": "display_data",
          "data": {
            "text/plain": [
              "<Figure size 800x600 with 1 Axes>"
            ],
            "image/png": "[encoded data removed]"
          },
          "metadata": {}
        },
        {
          "output_type": "display_data",
          "data": {
            "text/plain": [
              "<Figure size 800x600 with 1 Axes>"
            ],
            "image/png": "[encoded data removed]"
          },
          "metadata": {}
        }
      ]
    }
  ],
  "metadata": {
    "kernelspec": {
      "display_name": "Python 3",
      "name": "python3"
    },
    "language_info": {
      "codemirror_mode": {
        "name": "ipython",
        "version": 3
      },
      "file_extension": ".py",
      "mimetype": "text/x-python",
      "name": "python",
      "nbconvert_exporter": "python",
      "pygments_lexer": "ipython3",
      "version": "3.10.12"
    },
    "colab": {
      "provenance": [],
      "gpuType": "T4"
    },
    "accelerator": "GPU",
    "widgets": {
      "application/vnd.jupyter.widget-state+json": {
        "6f8b9caf6546464389b0899382765f2f": {
          "model_module": "@jupyter-widgets/controls",
          "model_name": "HBoxModel",
          "model_module_version": "1.5.0",
          "state": {
            "_dom_classes": [],
            "_model_module": "@jupyter-widgets/controls",
            "_model_module_version": "1.5.0",
            "_model_name": "HBoxModel",
            "_view_count": null,
            "_view_module": "@jupyter-widgets/controls",
            "_view_module_version": "1.5.0",
            "_view_name": "HBoxView",
            "box_style": "",
            "children": [
              "IPY_MODEL_93df306fc11940aa9c05edb416054d74",
              "IPY_MODEL_044d5ebb397a43839b4858f246878188",
              "IPY_MODEL_cdb29bf7948d4b73a892f2ae641c017a"
            ],
            "layout": "IPY_MODEL_52f48cdba2a44644b1c5b1185f312feb"
          }
        },
        "93df306fc11940aa9c05edb416054d74": {
          "model_module": "@jupyter-widgets/controls",
          "model_name": "HTMLModel",
          "model_module_version": "1.5.0",
          "state": {
            "_dom_classes": [],
            "_model_module": "@jupyter-widgets/controls",
            "_model_module_version": "1.5.0",
            "_model_name": "HTMLModel",
            "_view_count": null,
            "_view_module": "@jupyter-widgets/controls",
            "_view_module_version": "1.5.0",
            "_view_name": "HTMLView",
            "description": "",
            "description_tooltip": null,
            "layout": "IPY_MODEL_66d76c9507cd4be4b04d969c5b5bd7e2",
            "placeholder": "​",
            "style": "IPY_MODEL_b0e0bcaa179e4d54a1cebfbc373a409a",
            "value": ""
          }
        },
        "044d5ebb397a43839b4858f246878188": {
          "model_module": "@jupyter-widgets/controls",
          "model_name": "FloatProgressModel",
          "model_module_version": "1.5.0",
          "state": {
            "_dom_classes": [],
            "_model_module": "@jupyter-widgets/controls",
            "_model_module_version": "1.5.0",
            "_model_name": "FloatProgressModel",
            "_view_count": null,
            "_view_module": "@jupyter-widgets/controls",
            "_view_module_version": "1.5.0",
            "_view_name": "ProgressView",
            "bar_style": "success",
            "description": "",
            "description_tooltip": null,
            "layout": "IPY_MODEL_986b0eaeb9e14986ac9732e6179f1d91",
            "max": 130863613,
            "min": 0,
            "orientation": "horizontal",
            "style": "IPY_MODEL_6d70278c73e04a6ab70a4a991e318a4c",
            "value": 130863613
          }
        },
        "cdb29bf7948d4b73a892f2ae641c017a": {
          "model_module": "@jupyter-widgets/controls",
          "model_name": "HTMLModel",
          "model_module_version": "1.5.0",
          "state": {
            "_dom_classes": [],
            "_model_module": "@jupyter-widgets/controls",
            "_model_module_version": "1.5.0",
            "_model_name": "HTMLModel",
            "_view_count": null,
            "_view_module": "@jupyter-widgets/controls",
            "_view_module_version": "1.5.0",
            "_view_name": "HTMLView",
            "description": "",
            "description_tooltip": null,
            "layout": "IPY_MODEL_af005134917c455497d6c66781ba43b7",
            "placeholder": "​",
            "style": "IPY_MODEL_1968c759d0064a8eb3f6c056f195bbef",
            "value": " 130864128/? [00:10&lt;00:00, 13414498.96it/s]"
          }
        },
        "52f48cdba2a44644b1c5b1185f312feb": {
          "model_module": "@jupyter-widgets/base",
          "model_name": "LayoutModel",
          "model_module_version": "1.2.0",
          "state": {
            "_model_module": "@jupyter-widgets/base",
            "_model_module_version": "1.2.0",
            "_model_name": "LayoutModel",
            "_view_count": null,
            "_view_module": "@jupyter-widgets/base",
            "_view_module_version": "1.2.0",
            "_view_name": "LayoutView",
            "align_content": null,
            "align_items": null,
            "align_self": null,
            "border": null,
            "bottom": null,
            "display": null,
            "flex": null,
            "flex_flow": null,
            "grid_area": null,
            "grid_auto_columns": null,
            "grid_auto_flow": null,
            "grid_auto_rows": null,
            "grid_column": null,
            "grid_gap": null,
            "grid_row": null,
            "grid_template_areas": null,
            "grid_template_columns": null,
            "grid_template_rows": null,
            "height": null,
            "justify_content": null,
            "justify_items": null,
            "left": null,
            "margin": null,
            "max_height": null,
            "max_width": null,
            "min_height": null,
            "min_width": null,
            "object_fit": null,
            "object_position": null,
            "order": null,
            "overflow": null,
            "overflow_x": null,
            "overflow_y": null,
            "padding": null,
            "right": null,
            "top": null,
            "visibility": null,
            "width": null
          }
        },
        "66d76c9507cd4be4b04d969c5b5bd7e2": {
          "model_module": "@jupyter-widgets/base",
          "model_name": "LayoutModel",
          "model_module_version": "1.2.0",
          "state": {
            "_model_module": "@jupyter-widgets/base",
            "_model_module_version": "1.2.0",
            "_model_name": "LayoutModel",
            "_view_count": null,
            "_view_module": "@jupyter-widgets/base",
            "_view_module_version": "1.2.0",
            "_view_name": "LayoutView",
            "align_content": null,
            "align_items": null,
            "align_self": null,
            "border": null,
            "bottom": null,
            "display": null,
            "flex": null,
            "flex_flow": null,
            "grid_area": null,
            "grid_auto_columns": null,
            "grid_auto_flow": null,
            "grid_auto_rows": null,
            "grid_column": null,
            "grid_gap": null,
            "grid_row": null,
            "grid_template_areas": null,
            "grid_template_columns": null,
            "grid_template_rows": null,
            "height": null,
            "justify_content": null,
            "justify_items": null,
            "left": null,
            "margin": null,
            "max_height": null,
            "max_width": null,
            "min_height": null,
            "min_width": null,
            "object_fit": null,
            "object_position": null,
            "order": null,
            "overflow": null,
            "overflow_x": null,
            "overflow_y": null,
            "padding": null,
            "right": null,
            "top": null,
            "visibility": null,
            "width": null
          }
        },
        "b0e0bcaa179e4d54a1cebfbc373a409a": {
          "model_module": "@jupyter-widgets/controls",
          "model_name": "DescriptionStyleModel",
          "model_module_version": "1.5.0",
          "state": {
            "_model_module": "@jupyter-widgets/controls",
            "_model_module_version": "1.5.0",
            "_model_name": "DescriptionStyleModel",
            "_view_count": null,
            "_view_module": "@jupyter-widgets/base",
            "_view_module_version": "1.2.0",
            "_view_name": "StyleView",
            "description_width": ""
          }
        },
        "986b0eaeb9e14986ac9732e6179f1d91": {
          "model_module": "@jupyter-widgets/base",
          "model_name": "LayoutModel",
          "model_module_version": "1.2.0",
          "state": {
            "_model_module": "@jupyter-widgets/base",
            "_model_module_version": "1.2.0",
            "_model_name": "LayoutModel",
            "_view_count": null,
            "_view_module": "@jupyter-widgets/base",
            "_view_module_version": "1.2.0",
            "_view_name": "LayoutView",
            "align_content": null,
            "align_items": null,
            "align_self": null,
            "border": null,
            "bottom": null,
            "display": null,
            "flex": null,
            "flex_flow": null,
            "grid_area": null,
            "grid_auto_columns": null,
            "grid_auto_flow": null,
            "grid_auto_rows": null,
            "grid_column": null,
            "grid_gap": null,
            "grid_row": null,
            "grid_template_areas": null,
            "grid_template_columns": null,
            "grid_template_rows": null,
            "height": null,
            "justify_content": null,
            "justify_items": null,
            "left": null,
            "margin": null,
            "max_height": null,
            "max_width": null,
            "min_height": null,
            "min_width": null,
            "object_fit": null,
            "object_position": null,
            "order": null,
            "overflow": null,
            "overflow_x": null,
            "overflow_y": null,
            "padding": null,
            "right": null,
            "top": null,
            "visibility": null,
            "width": null
          }
        },
        "6d70278c73e04a6ab70a4a991e318a4c": {
          "model_module": "@jupyter-widgets/controls",
          "model_name": "ProgressStyleModel",
          "model_module_version": "1.5.0",
          "state": {
            "_model_module": "@jupyter-widgets/controls",
            "_model_module_version": "1.5.0",
            "_model_name": "ProgressStyleModel",
            "_view_count": null,
            "_view_module": "@jupyter-widgets/base",
            "_view_module_version": "1.2.0",
            "_view_name": "StyleView",
            "bar_color": null,
            "description_width": ""
          }
        },
        "af005134917c455497d6c66781ba43b7": {
          "model_module": "@jupyter-widgets/base",
          "model_name": "LayoutModel",
          "model_module_version": "1.2.0",
          "state": {
            "_model_module": "@jupyter-widgets/base",
            "_model_module_version": "1.2.0",
            "_model_name": "LayoutModel",
            "_view_count": null,
            "_view_module": "@jupyter-widgets/base",
            "_view_module_version": "1.2.0",
            "_view_name": "LayoutView",
            "align_content": null,
            "align_items": null,
            "align_self": null,
            "border": null,
            "bottom": null,
            "display": null,
            "flex": null,
            "flex_flow": null,
            "grid_area": null,
            "grid_auto_columns": null,
            "grid_auto_flow": null,
            "grid_auto_rows": null,
            "grid_column": null,
            "grid_gap": null,
            "grid_row": null,
            "grid_template_areas": null,
            "grid_template_columns": null,
            "grid_template_rows": null,
            "height": null,
            "justify_content": null,
            "justify_items": null,
            "left": null,
            "margin": null,
            "max_height": null,
            "max_width": null,
            "min_height": null,
            "min_width": null,
            "object_fit": null,
            "object_position": null,
            "order": null,
            "overflow": null,
            "overflow_x": null,
            "overflow_y": null,
            "padding": null,
            "right": null,
            "top": null,
            "visibility": null,
            "width": null
          }
        },
        "1968c759d0064a8eb3f6c056f195bbef": {
          "model_module": "@jupyter-widgets/controls",
          "model_name": "DescriptionStyleModel",
          "model_module_version": "1.5.0",
          "state": {
            "_model_module": "@jupyter-widgets/controls",
            "_model_module_version": "1.5.0",
            "_model_name": "DescriptionStyleModel",
            "_view_count": null,
            "_view_module": "@jupyter-widgets/base",
            "_view_module_version": "1.2.0",
            "_view_name": "StyleView",
            "description_width": ""
          }
        },
        "e1ce7eae93dc4e21b05422aa382be136": {
          "model_module": "@jupyter-widgets/controls",
          "model_name": "HBoxModel",
          "model_module_version": "1.5.0",
          "state": {
            "_dom_classes": [],
            "_model_module": "@jupyter-widgets/controls",
            "_model_module_version": "1.5.0",
            "_model_name": "HBoxModel",
            "_view_count": null,
            "_view_module": "@jupyter-widgets/controls",
            "_view_module_version": "1.5.0",
            "_view_name": "HBoxView",
            "box_style": "",
            "children": [
              "IPY_MODEL_ceb4a402f5034bf090615286f376ca9f",
              "IPY_MODEL_5041f8b98d28471e9feb5b862c42723d",
              "IPY_MODEL_2a46524e249b4780b9b724efa726449b"
            ],
            "layout": "IPY_MODEL_c7aeb50550b843fa94506497f278cfa5"
          }
        },
        "ceb4a402f5034bf090615286f376ca9f": {
          "model_module": "@jupyter-widgets/controls",
          "model_name": "HTMLModel",
          "model_module_version": "1.5.0",
          "state": {
            "_dom_classes": [],
            "_model_module": "@jupyter-widgets/controls",
            "_model_module_version": "1.5.0",
            "_model_name": "HTMLModel",
            "_view_count": null,
            "_view_module": "@jupyter-widgets/controls",
            "_view_module_version": "1.5.0",
            "_view_name": "HTMLView",
            "description": "",
            "description_tooltip": null,
            "layout": "IPY_MODEL_cec14af405ff4c36a0a077141fbf2615",
            "placeholder": "​",
            "style": "IPY_MODEL_4d183666dbd54459818a7667d3561961",
            "value": ""
          }
        },
        "5041f8b98d28471e9feb5b862c42723d": {
          "model_module": "@jupyter-widgets/controls",
          "model_name": "FloatProgressModel",
          "model_module_version": "1.5.0",
          "state": {
            "_dom_classes": [],
            "_model_module": "@jupyter-widgets/controls",
            "_model_module_version": "1.5.0",
            "_model_name": "FloatProgressModel",
            "_view_count": null,
            "_view_module": "@jupyter-widgets/controls",
            "_view_module_version": "1.5.0",
            "_view_name": "ProgressView",
            "bar_style": "success",
            "description": "",
            "description_tooltip": null,
            "layout": "IPY_MODEL_ce60d98402b54915a501f060853f1f14",
            "max": 38141465,
            "min": 0,
            "orientation": "horizontal",
            "style": "IPY_MODEL_fed48890acd74fd7baabf73e772a550e",
            "value": 38141465
          }
        },
        "2a46524e249b4780b9b724efa726449b": {
          "model_module": "@jupyter-widgets/controls",
          "model_name": "HTMLModel",
          "model_module_version": "1.5.0",
          "state": {
            "_dom_classes": [],
            "_model_module": "@jupyter-widgets/controls",
            "_model_module_version": "1.5.0",
            "_model_name": "HTMLModel",
            "_view_count": null,
            "_view_module": "@jupyter-widgets/controls",
            "_view_module_version": "1.5.0",
            "_view_name": "HTMLView",
            "description": "",
            "description_tooltip": null,
            "layout": "IPY_MODEL_1686b83f55af448e8b8bb1a643ad4983",
            "placeholder": "​",
            "style": "IPY_MODEL_394b8c950fbf4dff8aafecd10bf3c341",
            "value": " 38141952/? [00:02&lt;00:00, 20327160.81it/s]"
          }
        },
        "c7aeb50550b843fa94506497f278cfa5": {
          "model_module": "@jupyter-widgets/base",
          "model_name": "LayoutModel",
          "model_module_version": "1.2.0",
          "state": {
            "_model_module": "@jupyter-widgets/base",
            "_model_module_version": "1.2.0",
            "_model_name": "LayoutModel",
            "_view_count": null,
            "_view_module": "@jupyter-widgets/base",
            "_view_module_version": "1.2.0",
            "_view_name": "LayoutView",
            "align_content": null,
            "align_items": null,
            "align_self": null,
            "border": null,
            "bottom": null,
            "display": null,
            "flex": null,
            "flex_flow": null,
            "grid_area": null,
            "grid_auto_columns": null,
            "grid_auto_flow": null,
            "grid_auto_rows": null,
            "grid_column": null,
            "grid_gap": null,
            "grid_row": null,
            "grid_template_areas": null,
            "grid_template_columns": null,
            "grid_template_rows": null,
            "height": null,
            "justify_content": null,
            "justify_items": null,
            "left": null,
            "margin": null,
            "max_height": null,
            "max_width": null,
            "min_height": null,
            "min_width": null,
            "object_fit": null,
            "object_position": null,
            "order": null,
            "overflow": null,
            "overflow_x": null,
            "overflow_y": null,
            "padding": null,
            "right": null,
            "top": null,
            "visibility": null,
            "width": null
          }
        },
        "cec14af405ff4c36a0a077141fbf2615": {
          "model_module": "@jupyter-widgets/base",
          "model_name": "LayoutModel",
          "model_module_version": "1.2.0",
          "state": {
            "_model_module": "@jupyter-widgets/base",
            "_model_module_version": "1.2.0",
            "_model_name": "LayoutModel",
            "_view_count": null,
            "_view_module": "@jupyter-widgets/base",
            "_view_module_version": "1.2.0",
            "_view_name": "LayoutView",
            "align_content": null,
            "align_items": null,
            "align_self": null,
            "border": null,
            "bottom": null,
            "display": null,
            "flex": null,
            "flex_flow": null,
            "grid_area": null,
            "grid_auto_columns": null,
            "grid_auto_flow": null,
            "grid_auto_rows": null,
            "grid_column": null,
            "grid_gap": null,
            "grid_row": null,
            "grid_template_areas": null,
            "grid_template_columns": null,
            "grid_template_rows": null,
            "height": null,
            "justify_content": null,
            "justify_items": null,
            "left": null,
            "margin": null,
            "max_height": null,
            "max_width": null,
            "min_height": null,
            "min_width": null,
            "object_fit": null,
            "object_position": null,
            "order": null,
            "overflow": null,
            "overflow_x": null,
            "overflow_y": null,
            "padding": null,
            "right": null,
            "top": null,
            "visibility": null,
            "width": null
          }
        },
        "4d183666dbd54459818a7667d3561961": {
          "model_module": "@jupyter-widgets/controls",
          "model_name": "DescriptionStyleModel",
          "model_module_version": "1.5.0",
          "state": {
            "_model_module": "@jupyter-widgets/controls",
            "_model_module_version": "1.5.0",
            "_model_name": "DescriptionStyleModel",
            "_view_count": null,
            "_view_module": "@jupyter-widgets/base",
            "_view_module_version": "1.2.0",
            "_view_name": "StyleView",
            "description_width": ""
          }
        },
        "ce60d98402b54915a501f060853f1f14": {
          "model_module": "@jupyter-widgets/base",
          "model_name": "LayoutModel",
          "model_module_version": "1.2.0",
          "state": {
            "_model_module": "@jupyter-widgets/base",
            "_model_module_version": "1.2.0",
            "_model_name": "LayoutModel",
            "_view_count": null,
            "_view_module": "@jupyter-widgets/base",
            "_view_module_version": "1.2.0",
            "_view_name": "LayoutView",
            "align_content": null,
            "align_items": null,
            "align_self": null,
            "border": null,
            "bottom": null,
            "display": null,
            "flex": null,
            "flex_flow": null,
            "grid_area": null,
            "grid_auto_columns": null,
            "grid_auto_flow": null,
            "grid_auto_rows": null,
            "grid_column": null,
            "grid_gap": null,
            "grid_row": null,
            "grid_template_areas": null,
            "grid_template_columns": null,
            "grid_template_rows": null,
            "height": null,
            "justify_content": null,
            "justify_items": null,
            "left": null,
            "margin": null,
            "max_height": null,
            "max_width": null,
            "min_height": null,
            "min_width": null,
            "object_fit": null,
            "object_position": null,
            "order": null,
            "overflow": null,
            "overflow_x": null,
            "overflow_y": null,
            "padding": null,
            "right": null,
            "top": null,
            "visibility": null,
            "width": null
          }
        },
        "fed48890acd74fd7baabf73e772a550e": {
          "model_module": "@jupyter-widgets/controls",
          "model_name": "ProgressStyleModel",
          "model_module_version": "1.5.0",
          "state": {
            "_model_module": "@jupyter-widgets/controls",
            "_model_module_version": "1.5.0",
            "_model_name": "ProgressStyleModel",
            "_view_count": null,
            "_view_module": "@jupyter-widgets/base",
            "_view_module_version": "1.2.0",
            "_view_name": "StyleView",
            "bar_color": null,
            "description_width": ""
          }
        },
        "1686b83f55af448e8b8bb1a643ad4983": {
          "model_module": "@jupyter-widgets/base",
          "model_name": "LayoutModel",
          "model_module_version": "1.2.0",
          "state": {
            "_model_module": "@jupyter-widgets/base",
            "_model_module_version": "1.2.0",
            "_model_name": "LayoutModel",
            "_view_count": null,
            "_view_module": "@jupyter-widgets/base",
            "_view_module_version": "1.2.0",
            "_view_name": "LayoutView",
            "align_content": null,
            "align_items": null,
            "align_self": null,
            "border": null,
            "bottom": null,
            "display": null,
            "flex": null,
            "flex_flow": null,
            "grid_area": null,
            "grid_auto_columns": null,
            "grid_auto_flow": null,
            "grid_auto_rows": null,
            "grid_column": null,
            "grid_gap": null,
            "grid_row": null,
            "grid_template_areas": null,
            "grid_template_columns": null,
            "grid_template_rows": null,
            "height": null,
            "justify_content": null,
            "justify_items": null,
            "left": null,
            "margin": null,
            "max_height": null,
            "max_width": null,
            "min_height": null,
            "min_width": null,
            "object_fit": null,
            "object_position": null,
            "order": null,
            "overflow": null,
            "overflow_x": null,
            "overflow_y": null,
            "padding": null,
            "right": null,
            "top": null,
            "visibility": null,
            "width": null
          }
        },
        "394b8c950fbf4dff8aafecd10bf3c341": {
          "model_module": "@jupyter-widgets/controls",
          "model_name": "DescriptionStyleModel",
          "model_module_version": "1.5.0",
          "state": {
            "_model_module": "@jupyter-widgets/controls",
            "_model_module_version": "1.5.0",
            "_model_name": "DescriptionStyleModel",
            "_view_count": null,
            "_view_module": "@jupyter-widgets/base",
            "_view_module_version": "1.2.0",
            "_view_name": "StyleView",
            "description_width": ""
          }
        }
      }
    }
  },
  "nbformat": 4,
  "nbformat_minor": 0
}
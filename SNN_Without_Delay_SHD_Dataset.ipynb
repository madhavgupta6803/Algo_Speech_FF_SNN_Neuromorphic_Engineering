{
  "cells": [
    {
      "cell_type": "markdown",
      "source": [
        "### Install and import necessary libraries\n",
        "\n"
      ],
      "metadata": {
        "id": "FYnP8Ll_Q1r-"
      }
    },
    {
      "cell_type": "code",
      "source": [
        "!pip install snntorch\n",
        "!pip install tonic"
      ],
      "metadata": {
        "colab": {
          "base_uri": "https://localhost:8080/"
        },
        "id": "Y3D024vFD9VT",
        "outputId": "7ccbac6d-e118-4e97-c62b-b93bee553f67"
      },
      "execution_count": 1,
      "outputs": [
        {
          "output_type": "stream",
          "name": "stdout",
          "text": [
            "Collecting snntorch\n",
            "  Downloading snntorch-0.9.1-py2.py3-none-any.whl.metadata (16 kB)\n",
            "Requirement already satisfied: torch>=1.1.0 in /usr/local/lib/python3.10/dist-packages (from snntorch) (2.5.1+cu121)\n",
            "Requirement already satisfied: pandas in /usr/local/lib/python3.10/dist-packages (from snntorch) (2.2.2)\n",
            "Requirement already satisfied: matplotlib in /usr/local/lib/python3.10/dist-packages (from snntorch) (3.8.0)\n",
            "Requirement already satisfied: numpy>=1.17 in /usr/local/lib/python3.10/dist-packages (from snntorch) (1.26.4)\n",
            "Collecting nir (from snntorch)\n",
            "  Downloading nir-1.0.4-py3-none-any.whl.metadata (5.8 kB)\n",
            "Collecting nirtorch (from snntorch)\n",
            "  Downloading nirtorch-1.0-py3-none-any.whl.metadata (3.6 kB)\n",
            "Requirement already satisfied: filelock in /usr/local/lib/python3.10/dist-packages (from torch>=1.1.0->snntorch) (3.16.1)\n",
            "Requirement already satisfied: typing-extensions>=4.8.0 in /usr/local/lib/python3.10/dist-packages (from torch>=1.1.0->snntorch) (4.12.2)\n",
            "Requirement already satisfied: networkx in /usr/local/lib/python3.10/dist-packages (from torch>=1.1.0->snntorch) (3.4.2)\n",
            "Requirement already satisfied: jinja2 in /usr/local/lib/python3.10/dist-packages (from torch>=1.1.0->snntorch) (3.1.4)\n",
            "Requirement already satisfied: fsspec in /usr/local/lib/python3.10/dist-packages (from torch>=1.1.0->snntorch) (2024.10.0)\n",
            "Requirement already satisfied: sympy==1.13.1 in /usr/local/lib/python3.10/dist-packages (from torch>=1.1.0->snntorch) (1.13.1)\n",
            "Requirement already satisfied: mpmath<1.4,>=1.1.0 in /usr/local/lib/python3.10/dist-packages (from sympy==1.13.1->torch>=1.1.0->snntorch) (1.3.0)\n",
            "Requirement already satisfied: contourpy>=1.0.1 in /usr/local/lib/python3.10/dist-packages (from matplotlib->snntorch) (1.3.1)\n",
            "Requirement already satisfied: cycler>=0.10 in /usr/local/lib/python3.10/dist-packages (from matplotlib->snntorch) (0.12.1)\n",
            "Requirement already satisfied: fonttools>=4.22.0 in /usr/local/lib/python3.10/dist-packages (from matplotlib->snntorch) (4.55.0)\n",
            "Requirement already satisfied: kiwisolver>=1.0.1 in /usr/local/lib/python3.10/dist-packages (from matplotlib->snntorch) (1.4.7)\n",
            "Requirement already satisfied: packaging>=20.0 in /usr/local/lib/python3.10/dist-packages (from matplotlib->snntorch) (24.2)\n",
            "Requirement already satisfied: pillow>=6.2.0 in /usr/local/lib/python3.10/dist-packages (from matplotlib->snntorch) (11.0.0)\n",
            "Requirement already satisfied: pyparsing>=2.3.1 in /usr/local/lib/python3.10/dist-packages (from matplotlib->snntorch) (3.2.0)\n",
            "Requirement already satisfied: python-dateutil>=2.7 in /usr/local/lib/python3.10/dist-packages (from matplotlib->snntorch) (2.8.2)\n",
            "Requirement already satisfied: h5py in /usr/local/lib/python3.10/dist-packages (from nir->snntorch) (3.12.1)\n",
            "Requirement already satisfied: pytz>=2020.1 in /usr/local/lib/python3.10/dist-packages (from pandas->snntorch) (2024.2)\n",
            "Requirement already satisfied: tzdata>=2022.7 in /usr/local/lib/python3.10/dist-packages (from pandas->snntorch) (2024.2)\n",
            "Requirement already satisfied: six>=1.5 in /usr/local/lib/python3.10/dist-packages (from python-dateutil>=2.7->matplotlib->snntorch) (1.16.0)\n",
            "Requirement already satisfied: MarkupSafe>=2.0 in /usr/local/lib/python3.10/dist-packages (from jinja2->torch>=1.1.0->snntorch) (3.0.2)\n",
            "Downloading snntorch-0.9.1-py2.py3-none-any.whl (125 kB)\n",
            "\u001b[2K   \u001b[90m━━━━━━━━━━━━━━━━━━━━━━━━━━━━━━━━━━━━━━━━\u001b[0m \u001b[32m125.3/125.3 kB\u001b[0m \u001b[31m5.0 MB/s\u001b[0m eta \u001b[36m0:00:00\u001b[0m\n",
            "\u001b[?25hDownloading nir-1.0.4-py3-none-any.whl (18 kB)\n",
            "Downloading nirtorch-1.0-py3-none-any.whl (13 kB)\n",
            "Installing collected packages: nir, nirtorch, snntorch\n",
            "Successfully installed nir-1.0.4 nirtorch-1.0 snntorch-0.9.1\n"
          ]
        }
      ]
    },
    {
      "cell_type": "code",
      "execution_count": 4,
      "metadata": {
        "id": "4cPMbeTIDzcM"
      },
      "outputs": [],
      "source": [
        "import torch\n",
        "import snntorch\n",
        "device = torch.device(\"cuda\" if torch.cuda.is_available() else \"cpu\")\n",
        "# torch.cuda.set_per_process_memory_fraction(0.85, device=0)\n",
        "\n",
        "\n",
        "\n",
        "import numpy as np\n",
        "\n",
        "import tonic\n",
        "from tonic import datasets, transforms\n",
        "import torchvision as tv\n",
        "from torch.utils.data import DataLoader, Subset\n",
        "from sklearn.model_selection import train_test_split\n",
        "from collections import namedtuple\n",
        "\n",
        "State = namedtuple(\"State\", \"obs labels\")\n",
        "\n"
      ]
    },
    {
      "cell_type": "markdown",
      "source": [
        "### SHD2Raster: Tool for Rasterizing SHD (Spiking Neural Network) Samples into Frames"
      ],
      "metadata": {
        "id": "CPawhX99QVad"
      }
    },
    {
      "cell_type": "code",
      "execution_count": 5,
      "metadata": {
        "id": "J0yEfiv_DzcP"
      },
      "outputs": [],
      "source": [
        "class _SHD2Raster():\n",
        "    \"\"\"\n",
        "    Tool for rastering SHD samples into frames.\n",
        "    This class is used to convert event-based data into a frame format suitable for use in neural networks.\n",
        "    It packs bits along the temporal axis for memory efficiency, meaning the user will need to apply\n",
        "    `jnp.unpackbits(events, axis=<time axis>)` prior to feeding the data into the network.\n",
        "    \"\"\"\n",
        "\n",
        "    def __init__(self, encoding_dim, sample_T = 100):\n",
        "        \"\"\"\n",
        "        Initializes the rasterizer with the desired encoding dimension and the sample duration.\n",
        "\n",
        "        Args:\n",
        "            encoding_dim (int): The number of possible spatial locations in the raster (i.e., width of the frame).\n",
        "            sample_T (int, optional): The number of time steps to consider from the event stream. Defaults to 100.\n",
        "        \"\"\"\n",
        "        self.encoding_dim = encoding_dim  # Set the encoding dimension (width of the frame)\n",
        "        self.sample_T = sample_T  # Set the number of time steps to sample\n",
        "\n",
        "    def __call__(self, events):\n",
        "        \"\"\"\n",
        "        Converts event-based data into a rasterized tensor format for neural network input.\n",
        "\n",
        "        Args:\n",
        "            events (dict): A dictionary containing event-based data, which should include:\n",
        "                - \"t\": Array of time steps for each event\n",
        "                - \"x\": Array of spatial indices for each event\n",
        "\n",
        "        Returns:\n",
        "            numpy.ndarray: A binary tensor representing the rasterized events, shaped as [time_steps, encoding_dim].\n",
        "        \"\"\"\n",
        "\n",
        "        # Initialize a zero matrix with shape (max_time_step+1, encoding_dim), to hold the event counts\n",
        "        tensor = np.zeros((events[\"t\"].max() + 1, self.encoding_dim), dtype=int)\n",
        "\n",
        "        # Increment the corresponding positions in the tensor where events occurred (based on time 't' and spatial location 'x')\n",
        "        np.add.at(tensor, (events[\"t\"], events[\"x\"]), 1)\n",
        "\n",
        "        # Only keep the first 'sample_T' time steps\n",
        "        tensor = tensor[:self.sample_T, :]\n",
        "\n",
        "        # Set all values greater than 1 to 1, ensuring it's a binary representation\n",
        "        tensor = np.minimum(tensor, 1)\n",
        "\n",
        "        # Return the rasterized tensor\n",
        "        return tensor\n"
      ]
    },
    {
      "cell_type": "markdown",
      "source": [
        "### Dowloading and Transforming SHD Dataset"
      ],
      "metadata": {
        "id": "jlfLpCxeQY6c"
      }
    },
    {
      "cell_type": "code",
      "execution_count": 6,
      "metadata": {
        "id": "06qZzsw2DzcP",
        "colab": {
          "base_uri": "https://localhost:8080/",
          "height": 154,
          "referenced_widgets": [
            "371f72b8347b4f01a3b084a86c4b7201",
            "2c375a5cee21495580865ec544b6a3dd",
            "af8c24c67d7643f286c1c7f49675884d",
            "5ab82ca4734e4142b3e5b6dfeb584b5a",
            "a151654d75ad47af92dad5b4f19dfb0a",
            "7f8b60a3fef14eee9a1dd37b18f8edd9",
            "c3043765dcd942b6b9b25ac42c7ee31c",
            "2975e2f2eb1742059ba39c9ed6cead2f",
            "f1182f153e8347e5bf1c7ff9324075ec",
            "cedfaa1852ef4380be86feefdb20fcc2",
            "7b21a97aaa114b1e8a50d89f3b230016",
            "4c1e068b99a04a64b55e3afe6dcbd8d7",
            "6306e6e3b36542cb95ddfd72724ca4ad",
            "fc9ab5f8ac1445fda77d58289c9a1fe9",
            "05368b7233e14fbda586b5d0299bdc75",
            "65d6ba50613843ecb49d9a6dfc8c1e4d",
            "6d3d1ad381aa4c46a8e5e653e9802a93",
            "b864defbb77646f58709d8f7b1e3f24b",
            "aad3854a8c284f5780d6181767ff51d8",
            "ef3bf66d6e0c433db6fccd8fa46e5771",
            "575d899e714149c19ba16d647f1ffd97",
            "916ff806dd134fc9819257ef6f9d874f"
          ]
        },
        "outputId": "04cfc07e-81b8-4dd1-a997-d07a1c99a711"
      },
      "outputs": [
        {
          "output_type": "stream",
          "name": "stdout",
          "text": [
            "Downloading https://zenkelab.org/datasets/shd_train.h5.zip to ./data/SHD/shd_train.h5.zip\n"
          ]
        },
        {
          "output_type": "display_data",
          "data": {
            "text/plain": [
              "  0%|          | 0/130863613 [00:00<?, ?it/s]"
            ],
            "application/vnd.jupyter.widget-view+json": {
              "version_major": 2,
              "version_minor": 0,
              "model_id": "371f72b8347b4f01a3b084a86c4b7201"
            }
          },
          "metadata": {}
        },
        {
          "output_type": "stream",
          "name": "stdout",
          "text": [
            "Extracting ./data/SHD/shd_train.h5.zip to ./data/SHD\n",
            "Downloading https://zenkelab.org/datasets/shd_test.h5.zip to ./data/SHD/shd_test.h5.zip\n"
          ]
        },
        {
          "output_type": "display_data",
          "data": {
            "text/plain": [
              "  0%|          | 0/38141465 [00:00<?, ?it/s]"
            ],
            "application/vnd.jupyter.widget-view+json": {
              "version_major": 2,
              "version_minor": 0,
              "model_id": "4c1e068b99a04a64b55e3afe6dcbd8d7"
            }
          },
          "metadata": {}
        },
        {
          "output_type": "stream",
          "name": "stdout",
          "text": [
            "Extracting ./data/SHD/shd_test.h5.zip to ./data/SHD\n"
          ]
        }
      ],
      "source": [
        "# Define constants and parameters for processing\n",
        "sample_T = 64                 # Number of timesteps to sample for the rasterized input\n",
        "shd_timestep = 1e-6           # Time resolution of the SHD dataset in seconds (1 microsecond)\n",
        "shd_channels = 700            # Number of spatial channels in the SHD dataset\n",
        "net_channels = 128            # Number of spatial channels in the network\n",
        "net_dt = 1 / sample_T         # Time step for the network (inverse of sample_T)\n",
        "batch_size = 256              # Batch size for training and testing\n",
        "\n",
        "# Define observation and action shapes for the network\n",
        "obs_shape = tuple([net_channels,])  # Shape of the network's input (net_channels spatial dimension)\n",
        "act_shape = tuple([20,])            # Shape of the network's output (e.g., 20 classes)\n",
        "\n",
        "# Define transformations for the dataset\n",
        "transform = transforms.Compose([\n",
        "    # Downsample the data temporally and spatially to match the network's dimensions\n",
        "    transforms.Downsample(\n",
        "        time_factor=shd_timestep / net_dt,        # Factor to reduce the temporal resolution\n",
        "        spatial_factor=net_channels / shd_channels  # Factor to reduce the spatial resolution\n",
        "    ),\n",
        "    # Convert SHD spike trains to rasterized input suitable for the network\n",
        "    _SHD2Raster(net_channels, sample_T=sample_T)\n",
        "])\n",
        "\n",
        "# Load the SHD (Spiking Heidelberg Dataset) for training\n",
        "train_dataset = datasets.SHD(\n",
        "    \"./data\",              # Path to the dataset\n",
        "    train=True,            # Load the training split\n",
        "    transform=transform    # Apply the defined transformations\n",
        ")\n",
        "\n",
        "# Load the SHD dataset for testing\n",
        "test_dataset = datasets.SHD(\n",
        "    \"./data\",              # Path to the dataset\n",
        "    train=False,           # Load the testing split\n",
        "    transform=transform    # Apply the defined transformations\n",
        ")"
      ]
    },
    {
      "cell_type": "markdown",
      "source": [
        "### Preparing DataLoader for Training and Testing Datasets with Padded Tensors along with shuffle function for converting data into batches of 256"
      ],
      "metadata": {
        "id": "f5nsVeYsPDNv"
      }
    },
    {
      "cell_type": "code",
      "execution_count": 7,
      "metadata": {
        "id": "W493Oa1-DzcQ"
      },
      "outputs": [],
      "source": [
        "# Create a DataLoader to iterate through the training dataset\n",
        "train_dl = iter(DataLoader(\n",
        "    train_dataset,                                  # The SHD training dataset\n",
        "    batch_size=len(train_dataset),                 # Set batch size to the full dataset size\n",
        "    collate_fn=tonic.collation.PadTensors(         # Collate function to pad tensors for uniform dimensions\n",
        "        batch_first=True                           # Ensure the batch dimension comes first\n",
        "    ),\n",
        "    drop_last=True,                                # Drop the last incomplete batch if dataset size is not divisible\n",
        "    shuffle=False                                  # Do not shuffle the dataset\n",
        "))\n",
        "\n",
        "# Extract the first (and only) batch of data from the DataLoader\n",
        "x_train, y_train = next(train_dl)                 # `x_train` contains input data, `y_train` contains labels\n",
        "\n",
        "# Convert the data and labels to 8-bit unsigned integer tensors\n",
        "x_train, y_train = x_train.to(torch.uint8), y_train.to(torch.uint8)\n",
        "\n",
        "# Move the data and labels to the specified device (CPU or GPU)\n",
        "x_train, y_train = x_train.to(device), y_train.to(device)\n"
      ]
    },
    {
      "cell_type": "code",
      "execution_count": 8,
      "metadata": {
        "id": "UDPeZX3TDzcQ"
      },
      "outputs": [],
      "source": [
        "def shuffle(dataset):\n",
        "    x, y = dataset\n",
        "\n",
        "    cutoff = y.shape[0] % batch_size\n",
        "\n",
        "    indices = torch.randperm(y.shape[0])[:-cutoff]\n",
        "    obs, labels = x[indices], y[indices]\n",
        "\n",
        "\n",
        "    obs = torch.reshape(obs, (-1, batch_size) + obs.shape[1:])\n",
        "    labels = torch.reshape(labels, (-1, batch_size)) # should make batch size a global\n",
        "\n",
        "    return State(obs=obs, labels=labels)"
      ]
    },
    {
      "cell_type": "code",
      "execution_count": 9,
      "metadata": {
        "id": "rEYN5O3ODzcQ"
      },
      "outputs": [],
      "source": [
        "test_dl = iter(DataLoader(test_dataset, batch_size=len(test_dataset),\n",
        "                          collate_fn=tonic.collation.PadTensors(batch_first=True), drop_last=True, shuffle=False))\n",
        "\n",
        "x_test, y_test = next(test_dl)\n",
        "x_test, y_test = x_test.to(torch.uint8), y_test.to(torch.uint8)\n",
        "x_test, y_test = x_test.to(device), y_test.to(device)\n",
        "x_test, y_test = shuffle((x_test, y_test))"
      ]
    },
    {
      "cell_type": "code",
      "source": [
        "print(x_train.shape)\n",
        "print(x_test.shape)\n",
        "print(y_train.shape)\n",
        "print(y_test.shape)"
      ],
      "metadata": {
        "colab": {
          "base_uri": "https://localhost:8080/"
        },
        "id": "83WjG4we3pOD",
        "outputId": "ec66a69c-660d-4cc0-b0f4-d825b4f6e1b3"
      },
      "execution_count": 10,
      "outputs": [
        {
          "output_type": "stream",
          "name": "stdout",
          "text": [
            "torch.Size([8156, 64, 128])\n",
            "torch.Size([8, 256, 64, 128])\n",
            "torch.Size([8156])\n",
            "torch.Size([8, 256])\n"
          ]
        }
      ]
    },
    {
      "cell_type": "markdown",
      "source": [
        "### Basic SNN Network with 2 Hidden Layers"
      ],
      "metadata": {
        "id": "GobHLHGROPOA"
      }
    },
    {
      "cell_type": "code",
      "execution_count": 11,
      "metadata": {
        "id": "n9RPSAO0DzcQ"
      },
      "outputs": [],
      "source": [
        "num_hidden = 64  # Number of hidden units in the network\n",
        "\n",
        "# Define the Network class, inheriting from PyTorch's nn.Module\n",
        "class Net(torch.nn.Module):\n",
        "    def __init__(self):\n",
        "        super().__init__()\n",
        "\n",
        "        # Initialize layers in the network\n",
        "        self.fc1 = torch.nn.Linear(128, num_hidden)  # Fully connected layer (input size 128, hidden size 'num_hidden')\n",
        "\n",
        "        # Leaky Integrate-and-Fire (LIF) neuron model for the first hidden layer\n",
        "        self.lif1 = snntorch.Leaky(beta=torch.ones(num_hidden)*0.5, learn_beta=True)  # Initialize LIF with beta as 0.5 (with learnable beta)\n",
        "\n",
        "        self.fc2 = torch.nn.Linear(num_hidden, num_hidden)  # Fully connected layer (hidden size 'num_hidden' to 'num_hidden')\n",
        "\n",
        "        # Leaky Integrate-and-Fire (LIF) neuron model for the second hidden layer\n",
        "        self.lif2 = snntorch.Leaky(beta=torch.ones(num_hidden)*0.5, learn_beta=True)  # Same initialization for second LIF layer\n",
        "\n",
        "        self.fc3 = torch.nn.Linear(num_hidden, 20)  # Fully connected layer (hidden size 'num_hidden' to output size 20)\n",
        "\n",
        "        # Leaky Integrate-and-Fire (LIF) neuron model for the output layer\n",
        "        self.lif3 = snntorch.Leaky(beta=torch.ones(20)*0.5, learn_beta=True, reset_mechanism=\"none\")  # No reset for the output LIF layer\n",
        "\n",
        "    def forward(self, x):\n",
        "        \"\"\"\n",
        "        Forward pass through the network.\n",
        "        Args:\n",
        "            x (Tensor): Input tensor with shape [batch, time, channel]\n",
        "        Returns:\n",
        "            Tensor: Output tensor after passing through the network\n",
        "        \"\"\"\n",
        "\n",
        "        x = x.float()  # Ensure the input is in float format (necessary for SNNs)\n",
        "\n",
        "        # Permute the input to have time as the leading axis\n",
        "        x = x.permute(1,0,2)  # [time, batch, channel]\n",
        "\n",
        "        # Initialize hidden states for all LIF layers (at t=0)\n",
        "        mem1 = self.lif1.init_leaky()  # Memory for the first layer\n",
        "        mem2 = self.lif2.init_leaky()  # Memory for the second layer\n",
        "        mem3 = self.lif3.init_leaky()  # Memory for the third layer (output layer)\n",
        "\n",
        "        V = []  # To store the membrane potential of the output layer over time\n",
        "\n",
        "        # Loop through the time steps (temporal dimension) of the input\n",
        "        for i, step in enumerate(x):\n",
        "            # Compute the current value from the first layer\n",
        "            cur1 = self.fc1(step)\n",
        "            # Apply the LIF neuron model (spike and update memory)\n",
        "            spk1, mem1 = self.lif1(cur1, mem1)\n",
        "\n",
        "            # Compute the current value for the second layer\n",
        "            cur2 = self.fc2(spk1)\n",
        "            # Apply the LIF neuron model for the second layer\n",
        "            spk2, mem2 = self.lif2(cur2, mem2)\n",
        "\n",
        "            # Compute the current value for the third layer (output layer)\n",
        "            cur3 = self.fc3(spk2)\n",
        "            # Apply the LIF neuron model for the third layer\n",
        "            spk3, mem3 = self.lif3(cur3, mem3)\n",
        "\n",
        "            # Store the membrane potential of the output layer for each time step\n",
        "            V.append(mem3)\n",
        "\n",
        "        # Stack the membrane potentials across all time steps and permute the dimensions back to [batch, time, channel]\n",
        "        return torch.stack(V, axis=0).permute(1,0,2)\n",
        "\n",
        "# Load the network onto CUDA if available\n",
        "net = Net().to(device)  # Move the model to the GPU or CPU based on device availability"
      ]
    },
    {
      "cell_type": "markdown",
      "source": [
        "### Total Parameters"
      ],
      "metadata": {
        "id": "6u7Am4r4PbEM"
      }
    },
    {
      "cell_type": "code",
      "source": [
        "total_params = sum(p.numel() for p in net.parameters())\n",
        "\n",
        "print(f\"Total Parameters in the Network: {total_params}\")"
      ],
      "metadata": {
        "colab": {
          "base_uri": "https://localhost:8080/"
        },
        "id": "drOrHPC6MMO2",
        "outputId": "ca4ada4d-712c-4bf3-aa4b-1a81f9783add"
      },
      "execution_count": 12,
      "outputs": [
        {
          "output_type": "stream",
          "name": "stdout",
          "text": [
            "Total Parameters in the Network: 13864\n"
          ]
        }
      ]
    },
    {
      "cell_type": "markdown",
      "source": [
        "### Loss, Optimizer and Accuracy"
      ],
      "metadata": {
        "id": "TGvbuBkhP2I6"
      }
    },
    {
      "cell_type": "code",
      "execution_count": 19,
      "metadata": {
        "id": "T-mupPw9DzcR"
      },
      "outputs": [],
      "source": [
        "# Cross Entropy Loss with label smoothing\n",
        "loss = torch.nn.CrossEntropyLoss(label_smoothing=0.3)\n",
        "\n",
        "# Optimizer: Adam optimizer for training the model\n",
        "# This optimizer is adaptive, adjusting learning rates based on past gradients.\n",
        "optimizer = torch.optim.Adam(net.parameters(), lr=5e-4)\n",
        "\n",
        "# Accuracy calculation function\n",
        "# This lambda function computes the accuracy by comparing the predicted class\n",
        "acc = lambda predictions, targets : (torch.argmax(predictions, axis=-1) == targets).sum().item() / len(targets)"
      ]
    },
    {
      "cell_type": "markdown",
      "source": [
        "### Training and Testing Loop with Graphs"
      ],
      "metadata": {
        "id": "9VSqTp8cQMb8"
      }
    },
    {
      "cell_type": "code",
      "execution_count": 21,
      "metadata": {
        "colab": {
          "base_uri": "https://localhost:8080/",
          "height": 1000
        },
        "id": "GtI9pCqpDzcR",
        "outputId": "957a19d9-4740-481c-ee6f-6ffaa1fe7dc6"
      },
      "outputs": [
        {
          "output_type": "stream",
          "name": "stderr",
          "text": [
            "\rTraining Epochs:   0%|          | 0/50 [00:00<?, ?it/s]"
          ]
        },
        {
          "output_type": "stream",
          "name": "stdout",
          "text": [
            "Epoch 1: Training Loss = 3.4053, Training Accuracy = 9.14%\n"
          ]
        },
        {
          "output_type": "stream",
          "name": "stderr",
          "text": [
            "\rTraining Epochs:   2%|▏         | 1/50 [00:07<05:49,  7.14s/it]"
          ]
        },
        {
          "output_type": "stream",
          "name": "stdout",
          "text": [
            "Epoch 1: Test Loss = 3.2841, Test Accuracy = 15.82%\n",
            "Epoch 2: Training Loss = 3.1761, Training Accuracy = 15.12%\n"
          ]
        },
        {
          "output_type": "stream",
          "name": "stderr",
          "text": [
            "\rTraining Epochs:   4%|▍         | 2/50 [00:13<05:22,  6.72s/it]"
          ]
        },
        {
          "output_type": "stream",
          "name": "stdout",
          "text": [
            "Epoch 2: Test Loss = 3.1077, Test Accuracy = 20.61%\n",
            "Epoch 3: Training Loss = 3.0510, Training Accuracy = 18.56%\n"
          ]
        },
        {
          "output_type": "stream",
          "name": "stderr",
          "text": [
            "\rTraining Epochs:   6%|▌         | 3/50 [00:20<05:20,  6.82s/it]"
          ]
        },
        {
          "output_type": "stream",
          "name": "stdout",
          "text": [
            "Epoch 3: Test Loss = 2.9717, Test Accuracy = 25.88%\n",
            "Epoch 4: Training Loss = 2.9510, Training Accuracy = 22.58%\n"
          ]
        },
        {
          "output_type": "stream",
          "name": "stderr",
          "text": [
            "\rTraining Epochs:   8%|▊         | 4/50 [00:26<05:06,  6.65s/it]"
          ]
        },
        {
          "output_type": "stream",
          "name": "stdout",
          "text": [
            "Epoch 4: Test Loss = 2.8742, Test Accuracy = 27.83%\n",
            "Epoch 5: Training Loss = 2.8715, Training Accuracy = 25.19%\n"
          ]
        },
        {
          "output_type": "stream",
          "name": "stderr",
          "text": [
            "\rTraining Epochs:  10%|█         | 5/50 [00:34<05:13,  6.97s/it]"
          ]
        },
        {
          "output_type": "stream",
          "name": "stdout",
          "text": [
            "Epoch 5: Test Loss = 2.8088, Test Accuracy = 30.86%\n",
            "Epoch 6: Training Loss = 2.7959, Training Accuracy = 28.14%\n"
          ]
        },
        {
          "output_type": "stream",
          "name": "stderr",
          "text": [
            "\rTraining Epochs:  12%|█▏        | 6/50 [00:40<04:54,  6.69s/it]"
          ]
        },
        {
          "output_type": "stream",
          "name": "stdout",
          "text": [
            "Epoch 6: Test Loss = 2.7184, Test Accuracy = 33.69%\n",
            "Epoch 7: Training Loss = 2.7277, Training Accuracy = 31.02%\n"
          ]
        },
        {
          "output_type": "stream",
          "name": "stderr",
          "text": [
            "\rTraining Epochs:  14%|█▍        | 7/50 [00:47<04:51,  6.79s/it]"
          ]
        },
        {
          "output_type": "stream",
          "name": "stdout",
          "text": [
            "Epoch 7: Test Loss = 2.6648, Test Accuracy = 34.96%\n",
            "Epoch 8: Training Loss = 2.6689, Training Accuracy = 32.67%\n"
          ]
        },
        {
          "output_type": "stream",
          "name": "stderr",
          "text": [
            "\rTraining Epochs:  16%|█▌        | 8/50 [00:53<04:38,  6.62s/it]"
          ]
        },
        {
          "output_type": "stream",
          "name": "stdout",
          "text": [
            "Epoch 8: Test Loss = 2.5878, Test Accuracy = 37.79%\n",
            "Epoch 9: Training Loss = 2.6134, Training Accuracy = 35.18%\n"
          ]
        },
        {
          "output_type": "stream",
          "name": "stderr",
          "text": [
            "\rTraining Epochs:  18%|█▊        | 9/50 [01:00<04:35,  6.73s/it]"
          ]
        },
        {
          "output_type": "stream",
          "name": "stdout",
          "text": [
            "Epoch 9: Test Loss = 2.5336, Test Accuracy = 39.94%\n",
            "Epoch 10: Training Loss = 2.5653, Training Accuracy = 37.45%\n"
          ]
        },
        {
          "output_type": "stream",
          "name": "stderr",
          "text": [
            "\rTraining Epochs:  20%|██        | 10/50 [01:07<04:24,  6.61s/it]"
          ]
        },
        {
          "output_type": "stream",
          "name": "stdout",
          "text": [
            "Epoch 10: Test Loss = 2.5066, Test Accuracy = 41.36%\n",
            "Epoch 11: Training Loss = 2.5246, Training Accuracy = 39.91%\n"
          ]
        },
        {
          "output_type": "stream",
          "name": "stderr",
          "text": [
            "\rTraining Epochs:  22%|██▏       | 11/50 [01:14<04:21,  6.71s/it]"
          ]
        },
        {
          "output_type": "stream",
          "name": "stdout",
          "text": [
            "Epoch 11: Test Loss = 2.4689, Test Accuracy = 43.51%\n",
            "Epoch 12: Training Loss = 2.4837, Training Accuracy = 42.62%\n"
          ]
        },
        {
          "output_type": "stream",
          "name": "stderr",
          "text": [
            "\rTraining Epochs:  24%|██▍       | 12/50 [01:20<04:13,  6.68s/it]"
          ]
        },
        {
          "output_type": "stream",
          "name": "stdout",
          "text": [
            "Epoch 12: Test Loss = 2.4497, Test Accuracy = 43.80%\n",
            "Epoch 13: Training Loss = 2.4592, Training Accuracy = 44.03%\n"
          ]
        },
        {
          "output_type": "stream",
          "name": "stderr",
          "text": [
            "\rTraining Epochs:  26%|██▌       | 13/50 [01:27<04:06,  6.66s/it]"
          ]
        },
        {
          "output_type": "stream",
          "name": "stdout",
          "text": [
            "Epoch 13: Test Loss = 2.4096, Test Accuracy = 47.71%\n",
            "Epoch 14: Training Loss = 2.4317, Training Accuracy = 45.24%\n"
          ]
        },
        {
          "output_type": "stream",
          "name": "stderr",
          "text": [
            "\rTraining Epochs:  28%|██▊       | 14/50 [01:34<04:03,  6.77s/it]"
          ]
        },
        {
          "output_type": "stream",
          "name": "stdout",
          "text": [
            "Epoch 14: Test Loss = 2.4104, Test Accuracy = 47.61%\n",
            "Epoch 15: Training Loss = 2.4070, Training Accuracy = 47.64%\n"
          ]
        },
        {
          "output_type": "stream",
          "name": "stderr",
          "text": [
            "\rTraining Epochs:  30%|███       | 15/50 [01:40<03:51,  6.62s/it]"
          ]
        },
        {
          "output_type": "stream",
          "name": "stdout",
          "text": [
            "Epoch 15: Test Loss = 2.4011, Test Accuracy = 47.85%\n",
            "Epoch 16: Training Loss = 2.3851, Training Accuracy = 49.58%\n"
          ]
        },
        {
          "output_type": "stream",
          "name": "stderr",
          "text": [
            "\rTraining Epochs:  32%|███▏      | 16/50 [01:47<03:48,  6.73s/it]"
          ]
        },
        {
          "output_type": "stream",
          "name": "stdout",
          "text": [
            "Epoch 16: Test Loss = 2.4168, Test Accuracy = 48.39%\n",
            "Epoch 17: Training Loss = 2.3582, Training Accuracy = 51.70%\n"
          ]
        },
        {
          "output_type": "stream",
          "name": "stderr",
          "text": [
            "\rTraining Epochs:  34%|███▍      | 17/50 [01:53<03:37,  6.58s/it]"
          ]
        },
        {
          "output_type": "stream",
          "name": "stdout",
          "text": [
            "Epoch 17: Test Loss = 2.4044, Test Accuracy = 48.05%\n",
            "Epoch 18: Training Loss = 2.3513, Training Accuracy = 51.61%\n"
          ]
        },
        {
          "output_type": "stream",
          "name": "stderr",
          "text": [
            "\rTraining Epochs:  36%|███▌      | 18/50 [02:00<03:33,  6.68s/it]"
          ]
        },
        {
          "output_type": "stream",
          "name": "stdout",
          "text": [
            "Epoch 18: Test Loss = 2.3821, Test Accuracy = 50.98%\n",
            "Epoch 19: Training Loss = 2.3359, Training Accuracy = 52.89%\n"
          ]
        },
        {
          "output_type": "stream",
          "name": "stderr",
          "text": [
            "\rTraining Epochs:  38%|███▊      | 19/50 [02:07<03:25,  6.61s/it]"
          ]
        },
        {
          "output_type": "stream",
          "name": "stdout",
          "text": [
            "Epoch 19: Test Loss = 2.3873, Test Accuracy = 49.90%\n",
            "Epoch 20: Training Loss = 2.3073, Training Accuracy = 55.02%\n"
          ]
        },
        {
          "output_type": "stream",
          "name": "stderr",
          "text": [
            "\rTraining Epochs:  40%|████      | 20/50 [02:14<03:22,  6.74s/it]"
          ]
        },
        {
          "output_type": "stream",
          "name": "stdout",
          "text": [
            "Epoch 20: Test Loss = 2.3904, Test Accuracy = 50.39%\n",
            "Epoch 21: Training Loss = 2.3006, Training Accuracy = 55.73%\n"
          ]
        },
        {
          "output_type": "stream",
          "name": "stderr",
          "text": [
            "\rTraining Epochs:  42%|████▏     | 21/50 [02:20<03:10,  6.58s/it]"
          ]
        },
        {
          "output_type": "stream",
          "name": "stdout",
          "text": [
            "Epoch 21: Test Loss = 2.3900, Test Accuracy = 50.59%\n",
            "Epoch 22: Training Loss = 2.2932, Training Accuracy = 56.16%\n"
          ]
        },
        {
          "output_type": "stream",
          "name": "stderr",
          "text": [
            "\rTraining Epochs:  44%|████▍     | 22/50 [02:27<03:07,  6.71s/it]"
          ]
        },
        {
          "output_type": "stream",
          "name": "stdout",
          "text": [
            "Epoch 22: Test Loss = 2.3768, Test Accuracy = 52.29%\n",
            "Epoch 23: Training Loss = 2.2869, Training Accuracy = 57.38%\n"
          ]
        },
        {
          "output_type": "stream",
          "name": "stderr",
          "text": [
            "\rTraining Epochs:  46%|████▌     | 23/50 [02:33<02:57,  6.58s/it]"
          ]
        },
        {
          "output_type": "stream",
          "name": "stdout",
          "text": [
            "Epoch 23: Test Loss = 2.3596, Test Accuracy = 52.73%\n",
            "Epoch 24: Training Loss = 2.2819, Training Accuracy = 56.74%\n"
          ]
        },
        {
          "output_type": "stream",
          "name": "stderr",
          "text": [
            "\rTraining Epochs:  48%|████▊     | 24/50 [02:40<02:53,  6.68s/it]"
          ]
        },
        {
          "output_type": "stream",
          "name": "stdout",
          "text": [
            "Epoch 24: Test Loss = 2.3757, Test Accuracy = 50.39%\n",
            "Epoch 25: Training Loss = 2.2653, Training Accuracy = 58.27%\n"
          ]
        },
        {
          "output_type": "stream",
          "name": "stderr",
          "text": [
            "\rTraining Epochs:  50%|█████     | 25/50 [02:47<02:45,  6.62s/it]"
          ]
        },
        {
          "output_type": "stream",
          "name": "stdout",
          "text": [
            "Epoch 25: Test Loss = 2.3614, Test Accuracy = 52.15%\n",
            "Epoch 26: Training Loss = 2.2553, Training Accuracy = 59.48%\n"
          ]
        },
        {
          "output_type": "stream",
          "name": "stderr",
          "text": [
            "\rTraining Epochs:  52%|█████▏    | 26/50 [02:53<02:39,  6.63s/it]"
          ]
        },
        {
          "output_type": "stream",
          "name": "stdout",
          "text": [
            "Epoch 26: Test Loss = 2.3657, Test Accuracy = 51.66%\n",
            "Epoch 27: Training Loss = 2.2389, Training Accuracy = 60.45%\n"
          ]
        },
        {
          "output_type": "stream",
          "name": "stderr",
          "text": [
            "\rTraining Epochs:  54%|█████▍    | 27/50 [03:00<02:33,  6.69s/it]"
          ]
        },
        {
          "output_type": "stream",
          "name": "stdout",
          "text": [
            "Epoch 27: Test Loss = 2.3379, Test Accuracy = 54.10%\n",
            "Epoch 28: Training Loss = 2.2370, Training Accuracy = 60.48%\n"
          ]
        },
        {
          "output_type": "stream",
          "name": "stderr",
          "text": [
            "\rTraining Epochs:  56%|█████▌    | 28/50 [03:07<02:25,  6.61s/it]"
          ]
        },
        {
          "output_type": "stream",
          "name": "stdout",
          "text": [
            "Epoch 28: Test Loss = 2.3605, Test Accuracy = 53.12%\n",
            "Epoch 29: Training Loss = 2.2305, Training Accuracy = 61.37%\n"
          ]
        },
        {
          "output_type": "stream",
          "name": "stderr",
          "text": [
            "\rTraining Epochs:  58%|█████▊    | 29/50 [03:14<02:21,  6.72s/it]"
          ]
        },
        {
          "output_type": "stream",
          "name": "stdout",
          "text": [
            "Epoch 29: Test Loss = 2.3561, Test Accuracy = 53.08%\n",
            "Epoch 30: Training Loss = 2.2273, Training Accuracy = 61.05%\n"
          ]
        },
        {
          "output_type": "stream",
          "name": "stderr",
          "text": [
            "\rTraining Epochs:  60%|██████    | 30/50 [03:20<02:11,  6.58s/it]"
          ]
        },
        {
          "output_type": "stream",
          "name": "stdout",
          "text": [
            "Epoch 30: Test Loss = 2.3927, Test Accuracy = 49.90%\n",
            "Epoch 31: Training Loss = 2.2237, Training Accuracy = 61.39%\n"
          ]
        },
        {
          "output_type": "stream",
          "name": "stderr",
          "text": [
            "\rTraining Epochs:  62%|██████▏   | 31/50 [03:27<02:07,  6.70s/it]"
          ]
        },
        {
          "output_type": "stream",
          "name": "stdout",
          "text": [
            "Epoch 31: Test Loss = 2.3928, Test Accuracy = 51.76%\n",
            "Epoch 32: Training Loss = 2.2254, Training Accuracy = 61.49%\n"
          ]
        },
        {
          "output_type": "stream",
          "name": "stderr",
          "text": [
            "\rTraining Epochs:  64%|██████▍   | 32/50 [03:33<01:58,  6.57s/it]"
          ]
        },
        {
          "output_type": "stream",
          "name": "stdout",
          "text": [
            "Epoch 32: Test Loss = 2.3430, Test Accuracy = 52.78%\n",
            "Epoch 33: Training Loss = 2.2168, Training Accuracy = 62.22%\n"
          ]
        },
        {
          "output_type": "stream",
          "name": "stderr",
          "text": [
            "\rTraining Epochs:  66%|██████▌   | 33/50 [03:40<01:53,  6.68s/it]"
          ]
        },
        {
          "output_type": "stream",
          "name": "stdout",
          "text": [
            "Epoch 33: Test Loss = 2.3585, Test Accuracy = 52.05%\n",
            "Epoch 34: Training Loss = 2.2079, Training Accuracy = 62.83%\n"
          ]
        },
        {
          "output_type": "stream",
          "name": "stderr",
          "text": [
            "\rTraining Epochs:  68%|██████▊   | 34/50 [03:46<01:44,  6.54s/it]"
          ]
        },
        {
          "output_type": "stream",
          "name": "stdout",
          "text": [
            "Epoch 34: Test Loss = 2.3693, Test Accuracy = 51.27%\n",
            "Epoch 35: Training Loss = 2.2045, Training Accuracy = 62.78%\n"
          ]
        },
        {
          "output_type": "stream",
          "name": "stderr",
          "text": [
            "\rTraining Epochs:  70%|███████   | 35/50 [03:53<01:39,  6.66s/it]"
          ]
        },
        {
          "output_type": "stream",
          "name": "stdout",
          "text": [
            "Epoch 35: Test Loss = 2.3145, Test Accuracy = 55.66%\n",
            "Epoch 36: Training Loss = 2.2008, Training Accuracy = 63.67%\n"
          ]
        },
        {
          "output_type": "stream",
          "name": "stderr",
          "text": [
            "\rTraining Epochs:  72%|███████▏  | 36/50 [03:59<01:31,  6.53s/it]"
          ]
        },
        {
          "output_type": "stream",
          "name": "stdout",
          "text": [
            "Epoch 36: Test Loss = 2.3510, Test Accuracy = 54.05%\n",
            "Epoch 37: Training Loss = 2.1915, Training Accuracy = 64.10%\n"
          ]
        },
        {
          "output_type": "stream",
          "name": "stderr",
          "text": [
            "\rTraining Epochs:  74%|███████▍  | 37/50 [04:06<01:26,  6.67s/it]"
          ]
        },
        {
          "output_type": "stream",
          "name": "stdout",
          "text": [
            "Epoch 37: Test Loss = 2.3299, Test Accuracy = 54.25%\n",
            "Epoch 38: Training Loss = 2.1893, Training Accuracy = 64.44%\n"
          ]
        },
        {
          "output_type": "stream",
          "name": "stderr",
          "text": [
            "\rTraining Epochs:  76%|███████▌  | 38/50 [04:13<01:18,  6.57s/it]"
          ]
        },
        {
          "output_type": "stream",
          "name": "stdout",
          "text": [
            "Epoch 38: Test Loss = 2.3211, Test Accuracy = 54.79%\n",
            "Epoch 39: Training Loss = 2.1770, Training Accuracy = 65.46%\n"
          ]
        },
        {
          "output_type": "stream",
          "name": "stderr",
          "text": [
            "\rTraining Epochs:  78%|███████▊  | 39/50 [04:20<01:13,  6.67s/it]"
          ]
        },
        {
          "output_type": "stream",
          "name": "stdout",
          "text": [
            "Epoch 39: Test Loss = 2.3028, Test Accuracy = 58.01%\n",
            "Epoch 40: Training Loss = 2.1665, Training Accuracy = 65.97%\n"
          ]
        },
        {
          "output_type": "stream",
          "name": "stderr",
          "text": [
            "\rTraining Epochs:  80%|████████  | 40/50 [04:26<01:06,  6.67s/it]"
          ]
        },
        {
          "output_type": "stream",
          "name": "stdout",
          "text": [
            "Epoch 40: Test Loss = 2.3252, Test Accuracy = 55.47%\n",
            "Epoch 41: Training Loss = 2.1637, Training Accuracy = 66.54%\n"
          ]
        },
        {
          "output_type": "stream",
          "name": "stderr",
          "text": [
            "\rTraining Epochs:  82%|████████▏ | 41/50 [04:33<01:00,  6.67s/it]"
          ]
        },
        {
          "output_type": "stream",
          "name": "stdout",
          "text": [
            "Epoch 41: Test Loss = 2.3282, Test Accuracy = 54.20%\n",
            "Epoch 42: Training Loss = 2.1553, Training Accuracy = 67.54%\n"
          ]
        },
        {
          "output_type": "stream",
          "name": "stderr",
          "text": [
            "\rTraining Epochs:  84%|████████▍ | 42/50 [04:40<00:54,  6.76s/it]"
          ]
        },
        {
          "output_type": "stream",
          "name": "stdout",
          "text": [
            "Epoch 42: Test Loss = 2.3128, Test Accuracy = 56.88%\n",
            "Epoch 43: Training Loss = 2.1416, Training Accuracy = 68.13%\n"
          ]
        },
        {
          "output_type": "stream",
          "name": "stderr",
          "text": [
            "\rTraining Epochs:  86%|████████▌ | 43/50 [04:46<00:46,  6.60s/it]"
          ]
        },
        {
          "output_type": "stream",
          "name": "stdout",
          "text": [
            "Epoch 43: Test Loss = 2.2765, Test Accuracy = 59.13%\n",
            "Epoch 44: Training Loss = 2.1373, Training Accuracy = 68.51%\n"
          ]
        },
        {
          "output_type": "stream",
          "name": "stderr",
          "text": [
            "\rTraining Epochs:  88%|████████▊ | 44/50 [04:53<00:40,  6.72s/it]"
          ]
        },
        {
          "output_type": "stream",
          "name": "stdout",
          "text": [
            "Epoch 44: Test Loss = 2.3165, Test Accuracy = 56.49%\n",
            "Epoch 45: Training Loss = 2.1370, Training Accuracy = 68.46%\n"
          ]
        },
        {
          "output_type": "stream",
          "name": "stderr",
          "text": [
            "\rTraining Epochs:  90%|█████████ | 45/50 [04:59<00:32,  6.58s/it]"
          ]
        },
        {
          "output_type": "stream",
          "name": "stdout",
          "text": [
            "Epoch 45: Test Loss = 2.2908, Test Accuracy = 57.81%\n",
            "Epoch 46: Training Loss = 2.1269, Training Accuracy = 69.17%\n"
          ]
        },
        {
          "output_type": "stream",
          "name": "stderr",
          "text": [
            "\rTraining Epochs:  92%|█████████▏| 46/50 [05:06<00:26,  6.72s/it]"
          ]
        },
        {
          "output_type": "stream",
          "name": "stdout",
          "text": [
            "Epoch 46: Test Loss = 2.3238, Test Accuracy = 56.54%\n",
            "Epoch 47: Training Loss = 2.1259, Training Accuracy = 69.13%\n"
          ]
        },
        {
          "output_type": "stream",
          "name": "stderr",
          "text": [
            "\rTraining Epochs:  94%|█████████▍| 47/50 [05:13<00:19,  6.58s/it]"
          ]
        },
        {
          "output_type": "stream",
          "name": "stdout",
          "text": [
            "Epoch 47: Test Loss = 2.2917, Test Accuracy = 59.38%\n",
            "Epoch 48: Training Loss = 2.1135, Training Accuracy = 70.19%\n"
          ]
        },
        {
          "output_type": "stream",
          "name": "stderr",
          "text": [
            "\rTraining Epochs:  96%|█████████▌| 48/50 [05:20<00:13,  6.72s/it]"
          ]
        },
        {
          "output_type": "stream",
          "name": "stdout",
          "text": [
            "Epoch 48: Test Loss = 2.2612, Test Accuracy = 61.08%\n",
            "Epoch 49: Training Loss = 2.1102, Training Accuracy = 70.73%\n"
          ]
        },
        {
          "output_type": "stream",
          "name": "stderr",
          "text": [
            "\rTraining Epochs:  98%|█████████▊| 49/50 [05:26<00:06,  6.59s/it]"
          ]
        },
        {
          "output_type": "stream",
          "name": "stdout",
          "text": [
            "Epoch 49: Test Loss = 2.2486, Test Accuracy = 61.62%\n",
            "Epoch 50: Training Loss = 2.1038, Training Accuracy = 70.94%\n"
          ]
        },
        {
          "output_type": "stream",
          "name": "stderr",
          "text": [
            "Training Epochs: 100%|██████████| 50/50 [05:33<00:00,  6.67s/it]"
          ]
        },
        {
          "output_type": "stream",
          "name": "stdout",
          "text": [
            "Epoch 50: Test Loss = 2.2629, Test Accuracy = 60.21%\n"
          ]
        },
        {
          "output_type": "stream",
          "name": "stderr",
          "text": [
            "\n"
          ]
        },
        {
          "output_type": "display_data",
          "data": {
            "text/plain": [
              "<Figure size 1200x600 with 1 Axes>"
            ],
            "image/png": "[encoded data removed]"
          },
          "metadata": {}
        },
        {
          "output_type": "display_data",
          "data": {
            "text/plain": [
              "<Figure size 1200x600 with 1 Axes>"
            ],
            "image/png": "[encoded data removed]"
          },
          "metadata": {}
        }
      ],
      "source": [
        "import matplotlib.pyplot as plt\n",
        "import numpy as np\n",
        "import tqdm\n",
        "\n",
        "num_epochs = 50  # Example number of epochs\n",
        "loss_hist = []\n",
        "train_acc_hist = []\n",
        "test_loss_hist = []\n",
        "test_acc_hist = []\n",
        "\n",
        "# Outer training loop\n",
        "for epoch in tqdm.tqdm(range(num_epochs), desc=\"Training Epochs\"):\n",
        "    # Shuffle and prepare training batch\n",
        "    train_batch = shuffle((x_train, y_train))\n",
        "    train_data, train_targets = train_batch\n",
        "\n",
        "    epoch_loss = 0  # To track average loss for the epoch\n",
        "    batch_train_acc = []  # To track accuracy for the training set in this epoch\n",
        "\n",
        "    # Minibatch training loop\n",
        "    for data, targets in zip(train_data, train_targets):\n",
        "        # Forward pass\n",
        "        net.train()\n",
        "        out_V = net(data)\n",
        "        # Initialize the loss & sum over time\n",
        "        loss_val = loss(torch.sum(out_V, axis=-2), targets)\n",
        "\n",
        "        # Gradient calculation + weight update\n",
        "        optimizer.zero_grad()\n",
        "        loss_val.backward()\n",
        "        optimizer.step()\n",
        "\n",
        "        # Accumulate loss\n",
        "        epoch_loss += loss_val.item()\n",
        "\n",
        "        # Calculate training accuracy\n",
        "        batch_train_acc.append(acc(torch.sum(out_V, axis=-2), targets))\n",
        "\n",
        "    # Compute average loss and accuracy for the epoch\n",
        "    avg_epoch_loss = epoch_loss / len(train_data)\n",
        "    avg_train_acc = np.mean(batch_train_acc) * 100  # Convert accuracy to percentage\n",
        "\n",
        "    loss_hist.append(avg_epoch_loss)\n",
        "    train_acc_hist.append(avg_train_acc)\n",
        "\n",
        "    print(f\"Epoch {epoch+1}: Training Loss = {avg_epoch_loss:.4f}, Training Accuracy = {avg_train_acc:.2f}%\")\n",
        "\n",
        "    # Test set evaluation at the end of each epoch\n",
        "    with torch.no_grad():\n",
        "        batch_test_acc = []\n",
        "        batch_test_loss = []\n",
        "\n",
        "        for test_data, test_targets in zip(x_test, y_test):\n",
        "            net.eval()\n",
        "            # Test set forward pass\n",
        "            out_V = net(test_data)\n",
        "            # Calculate accuracy and loss\n",
        "            batch_test_acc.append(acc(torch.sum(out_V, axis=-2), test_targets))\n",
        "            test_loss = loss(torch.sum(out_V, axis=-2), test_targets).item()\n",
        "            batch_test_loss.append(test_loss)\n",
        "\n",
        "        # Average test accuracy and test loss for the epoch\n",
        "        avg_test_acc = np.mean(batch_test_acc) * 100  # Convert accuracy to percentage\n",
        "        avg_test_loss = np.mean(batch_test_loss)\n",
        "\n",
        "        test_loss_hist.append(avg_test_loss)\n",
        "        test_acc_hist.append(avg_test_acc)\n",
        "\n",
        "        print(f\"Epoch {epoch+1}: Test Loss = {avg_test_loss:.4f}, Test Accuracy = {avg_test_acc:.2f}%\")\n",
        "\n",
        "# Plotting graphs\n",
        "epochs = np.arange(1, num_epochs + 1)\n",
        "\n",
        "# Plot Training and Testing Loss\n",
        "plt.figure(figsize=(12, 6))\n",
        "plt.plot(epochs, loss_hist, label=\"Training Loss\", color=\"blue\")\n",
        "plt.plot(epochs, test_loss_hist, label=\"Testing Loss\", color=\"orange\")\n",
        "plt.xlabel(\"Epochs\")\n",
        "plt.ylabel(\"Loss\")\n",
        "plt.title(\"Training and Testing Loss vs. Epochs\")\n",
        "plt.legend()\n",
        "plt.grid(True)\n",
        "plt.show()\n",
        "\n",
        "# Plot Training and Testing Accuracy\n",
        "plt.figure(figsize=(12, 6))\n",
        "plt.plot(epochs, train_acc_hist, label=\"Training Accuracy\", color=\"blue\")\n",
        "plt.plot(epochs, test_acc_hist, label=\"Testing Accuracy\", color=\"green\")\n",
        "plt.xlabel(\"Epochs\")\n",
        "plt.ylabel(\"Accuracy (%)\")\n",
        "plt.title(\"Training and Testing Accuracy vs. Epochs\")\n",
        "plt.legend()\n",
        "plt.grid(True)\n",
        "plt.show()\n"
      ]
    }
  ],
  "metadata": {
    "kernelspec": {
      "display_name": "Python 3",
      "name": "python3"
    },
    "language_info": {
      "codemirror_mode": {
        "name": "ipython",
        "version": 3
      },
      "file_extension": ".py",
      "mimetype": "text/x-python",
      "name": "python",
      "nbconvert_exporter": "python",
      "pygments_lexer": "ipython3",
      "version": "3.10.12"
    },
    "colab": {
      "provenance": [],
      "gpuType": "T4"
    },
    "accelerator": "GPU",
    "widgets": {
      "application/vnd.jupyter.widget-state+json": {
        "371f72b8347b4f01a3b084a86c4b7201": {
          "model_module": "@jupyter-widgets/controls",
          "model_name": "HBoxModel",
          "model_module_version": "1.5.0",
          "state": {
            "_dom_classes": [],
            "_model_module": "@jupyter-widgets/controls",
            "_model_module_version": "1.5.0",
            "_model_name": "HBoxModel",
            "_view_count": null,
            "_view_module": "@jupyter-widgets/controls",
            "_view_module_version": "1.5.0",
            "_view_name": "HBoxView",
            "box_style": "",
            "children": [
              "IPY_MODEL_2c375a5cee21495580865ec544b6a3dd",
              "IPY_MODEL_af8c24c67d7643f286c1c7f49675884d",
              "IPY_MODEL_5ab82ca4734e4142b3e5b6dfeb584b5a"
            ],
            "layout": "IPY_MODEL_a151654d75ad47af92dad5b4f19dfb0a"
          }
        },
        "2c375a5cee21495580865ec544b6a3dd": {
          "model_module": "@jupyter-widgets/controls",
          "model_name": "HTMLModel",
          "model_module_version": "1.5.0",
          "state": {
            "_dom_classes": [],
            "_model_module": "@jupyter-widgets/controls",
            "_model_module_version": "1.5.0",
            "_model_name": "HTMLModel",
            "_view_count": null,
            "_view_module": "@jupyter-widgets/controls",
            "_view_module_version": "1.5.0",
            "_view_name": "HTMLView",
            "description": "",
            "description_tooltip": null,
            "layout": "IPY_MODEL_7f8b60a3fef14eee9a1dd37b18f8edd9",
            "placeholder": "​",
            "style": "IPY_MODEL_c3043765dcd942b6b9b25ac42c7ee31c",
            "value": ""
          }
        },
        "af8c24c67d7643f286c1c7f49675884d": {
          "model_module": "@jupyter-widgets/controls",
          "model_name": "FloatProgressModel",
          "model_module_version": "1.5.0",
          "state": {
            "_dom_classes": [],
            "_model_module": "@jupyter-widgets/controls",
            "_model_module_version": "1.5.0",
            "_model_name": "FloatProgressModel",
            "_view_count": null,
            "_view_module": "@jupyter-widgets/controls",
            "_view_module_version": "1.5.0",
            "_view_name": "ProgressView",
            "bar_style": "success",
            "description": "",
            "description_tooltip": null,
            "layout": "IPY_MODEL_2975e2f2eb1742059ba39c9ed6cead2f",
            "max": 130863613,
            "min": 0,
            "orientation": "horizontal",
            "style": "IPY_MODEL_f1182f153e8347e5bf1c7ff9324075ec",
            "value": 130863613
          }
        },
        "5ab82ca4734e4142b3e5b6dfeb584b5a": {
          "model_module": "@jupyter-widgets/controls",
          "model_name": "HTMLModel",
          "model_module_version": "1.5.0",
          "state": {
            "_dom_classes": [],
            "_model_module": "@jupyter-widgets/controls",
            "_model_module_version": "1.5.0",
            "_model_name": "HTMLModel",
            "_view_count": null,
            "_view_module": "@jupyter-widgets/controls",
            "_view_module_version": "1.5.0",
            "_view_name": "HTMLView",
            "description": "",
            "description_tooltip": null,
            "layout": "IPY_MODEL_cedfaa1852ef4380be86feefdb20fcc2",
            "placeholder": "​",
            "style": "IPY_MODEL_7b21a97aaa114b1e8a50d89f3b230016",
            "value": " 130864128/? [00:05&lt;00:00, 28608460.12it/s]"
          }
        },
        "a151654d75ad47af92dad5b4f19dfb0a": {
          "model_module": "@jupyter-widgets/base",
          "model_name": "LayoutModel",
          "model_module_version": "1.2.0",
          "state": {
            "_model_module": "@jupyter-widgets/base",
            "_model_module_version": "1.2.0",
            "_model_name": "LayoutModel",
            "_view_count": null,
            "_view_module": "@jupyter-widgets/base",
            "_view_module_version": "1.2.0",
            "_view_name": "LayoutView",
            "align_content": null,
            "align_items": null,
            "align_self": null,
            "border": null,
            "bottom": null,
            "display": null,
            "flex": null,
            "flex_flow": null,
            "grid_area": null,
            "grid_auto_columns": null,
            "grid_auto_flow": null,
            "grid_auto_rows": null,
            "grid_column": null,
            "grid_gap": null,
            "grid_row": null,
            "grid_template_areas": null,
            "grid_template_columns": null,
            "grid_template_rows": null,
            "height": null,
            "justify_content": null,
            "justify_items": null,
            "left": null,
            "margin": null,
            "max_height": null,
            "max_width": null,
            "min_height": null,
            "min_width": null,
            "object_fit": null,
            "object_position": null,
            "order": null,
            "overflow": null,
            "overflow_x": null,
            "overflow_y": null,
            "padding": null,
            "right": null,
            "top": null,
            "visibility": null,
            "width": null
          }
        },
        "7f8b60a3fef14eee9a1dd37b18f8edd9": {
          "model_module": "@jupyter-widgets/base",
          "model_name": "LayoutModel",
          "model_module_version": "1.2.0",
          "state": {
            "_model_module": "@jupyter-widgets/base",
            "_model_module_version": "1.2.0",
            "_model_name": "LayoutModel",
            "_view_count": null,
            "_view_module": "@jupyter-widgets/base",
            "_view_module_version": "1.2.0",
            "_view_name": "LayoutView",
            "align_content": null,
            "align_items": null,
            "align_self": null,
            "border": null,
            "bottom": null,
            "display": null,
            "flex": null,
            "flex_flow": null,
            "grid_area": null,
            "grid_auto_columns": null,
            "grid_auto_flow": null,
            "grid_auto_rows": null,
            "grid_column": null,
            "grid_gap": null,
            "grid_row": null,
            "grid_template_areas": null,
            "grid_template_columns": null,
            "grid_template_rows": null,
            "height": null,
            "justify_content": null,
            "justify_items": null,
            "left": null,
            "margin": null,
            "max_height": null,
            "max_width": null,
            "min_height": null,
            "min_width": null,
            "object_fit": null,
            "object_position": null,
            "order": null,
            "overflow": null,
            "overflow_x": null,
            "overflow_y": null,
            "padding": null,
            "right": null,
            "top": null,
            "visibility": null,
            "width": null
          }
        },
        "c3043765dcd942b6b9b25ac42c7ee31c": {
          "model_module": "@jupyter-widgets/controls",
          "model_name": "DescriptionStyleModel",
          "model_module_version": "1.5.0",
          "state": {
            "_model_module": "@jupyter-widgets/controls",
            "_model_module_version": "1.5.0",
            "_model_name": "DescriptionStyleModel",
            "_view_count": null,
            "_view_module": "@jupyter-widgets/base",
            "_view_module_version": "1.2.0",
            "_view_name": "StyleView",
            "description_width": ""
          }
        },
        "2975e2f2eb1742059ba39c9ed6cead2f": {
          "model_module": "@jupyter-widgets/base",
          "model_name": "LayoutModel",
          "model_module_version": "1.2.0",
          "state": {
            "_model_module": "@jupyter-widgets/base",
            "_model_module_version": "1.2.0",
            "_model_name": "LayoutModel",
            "_view_count": null,
            "_view_module": "@jupyter-widgets/base",
            "_view_module_version": "1.2.0",
            "_view_name": "LayoutView",
            "align_content": null,
            "align_items": null,
            "align_self": null,
            "border": null,
            "bottom": null,
            "display": null,
            "flex": null,
            "flex_flow": null,
            "grid_area": null,
            "grid_auto_columns": null,
            "grid_auto_flow": null,
            "grid_auto_rows": null,
            "grid_column": null,
            "grid_gap": null,
            "grid_row": null,
            "grid_template_areas": null,
            "grid_template_columns": null,
            "grid_template_rows": null,
            "height": null,
            "justify_content": null,
            "justify_items": null,
            "left": null,
            "margin": null,
            "max_height": null,
            "max_width": null,
            "min_height": null,
            "min_width": null,
            "object_fit": null,
            "object_position": null,
            "order": null,
            "overflow": null,
            "overflow_x": null,
            "overflow_y": null,
            "padding": null,
            "right": null,
            "top": null,
            "visibility": null,
            "width": null
          }
        },
        "f1182f153e8347e5bf1c7ff9324075ec": {
          "model_module": "@jupyter-widgets/controls",
          "model_name": "ProgressStyleModel",
          "model_module_version": "1.5.0",
          "state": {
            "_model_module": "@jupyter-widgets/controls",
            "_model_module_version": "1.5.0",
            "_model_name": "ProgressStyleModel",
            "_view_count": null,
            "_view_module": "@jupyter-widgets/base",
            "_view_module_version": "1.2.0",
            "_view_name": "StyleView",
            "bar_color": null,
            "description_width": ""
          }
        },
        "cedfaa1852ef4380be86feefdb20fcc2": {
          "model_module": "@jupyter-widgets/base",
          "model_name": "LayoutModel",
          "model_module_version": "1.2.0",
          "state": {
            "_model_module": "@jupyter-widgets/base",
            "_model_module_version": "1.2.0",
            "_model_name": "LayoutModel",
            "_view_count": null,
            "_view_module": "@jupyter-widgets/base",
            "_view_module_version": "1.2.0",
            "_view_name": "LayoutView",
            "align_content": null,
            "align_items": null,
            "align_self": null,
            "border": null,
            "bottom": null,
            "display": null,
            "flex": null,
            "flex_flow": null,
            "grid_area": null,
            "grid_auto_columns": null,
            "grid_auto_flow": null,
            "grid_auto_rows": null,
            "grid_column": null,
            "grid_gap": null,
            "grid_row": null,
            "grid_template_areas": null,
            "grid_template_columns": null,
            "grid_template_rows": null,
            "height": null,
            "justify_content": null,
            "justify_items": null,
            "left": null,
            "margin": null,
            "max_height": null,
            "max_width": null,
            "min_height": null,
            "min_width": null,
            "object_fit": null,
            "object_position": null,
            "order": null,
            "overflow": null,
            "overflow_x": null,
            "overflow_y": null,
            "padding": null,
            "right": null,
            "top": null,
            "visibility": null,
            "width": null
          }
        },
        "7b21a97aaa114b1e8a50d89f3b230016": {
          "model_module": "@jupyter-widgets/controls",
          "model_name": "DescriptionStyleModel",
          "model_module_version": "1.5.0",
          "state": {
            "_model_module": "@jupyter-widgets/controls",
            "_model_module_version": "1.5.0",
            "_model_name": "DescriptionStyleModel",
            "_view_count": null,
            "_view_module": "@jupyter-widgets/base",
            "_view_module_version": "1.2.0",
            "_view_name": "StyleView",
            "description_width": ""
          }
        },
        "4c1e068b99a04a64b55e3afe6dcbd8d7": {
          "model_module": "@jupyter-widgets/controls",
          "model_name": "HBoxModel",
          "model_module_version": "1.5.0",
          "state": {
            "_dom_classes": [],
            "_model_module": "@jupyter-widgets/controls",
            "_model_module_version": "1.5.0",
            "_model_name": "HBoxModel",
            "_view_count": null,
            "_view_module": "@jupyter-widgets/controls",
            "_view_module_version": "1.5.0",
            "_view_name": "HBoxView",
            "box_style": "",
            "children": [
              "IPY_MODEL_6306e6e3b36542cb95ddfd72724ca4ad",
              "IPY_MODEL_fc9ab5f8ac1445fda77d58289c9a1fe9",
              "IPY_MODEL_05368b7233e14fbda586b5d0299bdc75"
            ],
            "layout": "IPY_MODEL_65d6ba50613843ecb49d9a6dfc8c1e4d"
          }
        },
        "6306e6e3b36542cb95ddfd72724ca4ad": {
          "model_module": "@jupyter-widgets/controls",
          "model_name": "HTMLModel",
          "model_module_version": "1.5.0",
          "state": {
            "_dom_classes": [],
            "_model_module": "@jupyter-widgets/controls",
            "_model_module_version": "1.5.0",
            "_model_name": "HTMLModel",
            "_view_count": null,
            "_view_module": "@jupyter-widgets/controls",
            "_view_module_version": "1.5.0",
            "_view_name": "HTMLView",
            "description": "",
            "description_tooltip": null,
            "layout": "IPY_MODEL_6d3d1ad381aa4c46a8e5e653e9802a93",
            "placeholder": "​",
            "style": "IPY_MODEL_b864defbb77646f58709d8f7b1e3f24b",
            "value": ""
          }
        },
        "fc9ab5f8ac1445fda77d58289c9a1fe9": {
          "model_module": "@jupyter-widgets/controls",
          "model_name": "FloatProgressModel",
          "model_module_version": "1.5.0",
          "state": {
            "_dom_classes": [],
            "_model_module": "@jupyter-widgets/controls",
            "_model_module_version": "1.5.0",
            "_model_name": "FloatProgressModel",
            "_view_count": null,
            "_view_module": "@jupyter-widgets/controls",
            "_view_module_version": "1.5.0",
            "_view_name": "ProgressView",
            "bar_style": "success",
            "description": "",
            "description_tooltip": null,
            "layout": "IPY_MODEL_aad3854a8c284f5780d6181767ff51d8",
            "max": 38141465,
            "min": 0,
            "orientation": "horizontal",
            "style": "IPY_MODEL_ef3bf66d6e0c433db6fccd8fa46e5771",
            "value": 38141465
          }
        },
        "05368b7233e14fbda586b5d0299bdc75": {
          "model_module": "@jupyter-widgets/controls",
          "model_name": "HTMLModel",
          "model_module_version": "1.5.0",
          "state": {
            "_dom_classes": [],
            "_model_module": "@jupyter-widgets/controls",
            "_model_module_version": "1.5.0",
            "_model_name": "HTMLModel",
            "_view_count": null,
            "_view_module": "@jupyter-widgets/controls",
            "_view_module_version": "1.5.0",
            "_view_name": "HTMLView",
            "description": "",
            "description_tooltip": null,
            "layout": "IPY_MODEL_575d899e714149c19ba16d647f1ffd97",
            "placeholder": "​",
            "style": "IPY_MODEL_916ff806dd134fc9819257ef6f9d874f",
            "value": " 38141952/? [00:02&lt;00:00, 28018413.86it/s]"
          }
        },
        "65d6ba50613843ecb49d9a6dfc8c1e4d": {
          "model_module": "@jupyter-widgets/base",
          "model_name": "LayoutModel",
          "model_module_version": "1.2.0",
          "state": {
            "_model_module": "@jupyter-widgets/base",
            "_model_module_version": "1.2.0",
            "_model_name": "LayoutModel",
            "_view_count": null,
            "_view_module": "@jupyter-widgets/base",
            "_view_module_version": "1.2.0",
            "_view_name": "LayoutView",
            "align_content": null,
            "align_items": null,
            "align_self": null,
            "border": null,
            "bottom": null,
            "display": null,
            "flex": null,
            "flex_flow": null,
            "grid_area": null,
            "grid_auto_columns": null,
            "grid_auto_flow": null,
            "grid_auto_rows": null,
            "grid_column": null,
            "grid_gap": null,
            "grid_row": null,
            "grid_template_areas": null,
            "grid_template_columns": null,
            "grid_template_rows": null,
            "height": null,
            "justify_content": null,
            "justify_items": null,
            "left": null,
            "margin": null,
            "max_height": null,
            "max_width": null,
            "min_height": null,
            "min_width": null,
            "object_fit": null,
            "object_position": null,
            "order": null,
            "overflow": null,
            "overflow_x": null,
            "overflow_y": null,
            "padding": null,
            "right": null,
            "top": null,
            "visibility": null,
            "width": null
          }
        },
        "6d3d1ad381aa4c46a8e5e653e9802a93": {
          "model_module": "@jupyter-widgets/base",
          "model_name": "LayoutModel",
          "model_module_version": "1.2.0",
          "state": {
            "_model_module": "@jupyter-widgets/base",
            "_model_module_version": "1.2.0",
            "_model_name": "LayoutModel",
            "_view_count": null,
            "_view_module": "@jupyter-widgets/base",
            "_view_module_version": "1.2.0",
            "_view_name": "LayoutView",
            "align_content": null,
            "align_items": null,
            "align_self": null,
            "border": null,
            "bottom": null,
            "display": null,
            "flex": null,
            "flex_flow": null,
            "grid_area": null,
            "grid_auto_columns": null,
            "grid_auto_flow": null,
            "grid_auto_rows": null,
            "grid_column": null,
            "grid_gap": null,
            "grid_row": null,
            "grid_template_areas": null,
            "grid_template_columns": null,
            "grid_template_rows": null,
            "height": null,
            "justify_content": null,
            "justify_items": null,
            "left": null,
            "margin": null,
            "max_height": null,
            "max_width": null,
            "min_height": null,
            "min_width": null,
            "object_fit": null,
            "object_position": null,
            "order": null,
            "overflow": null,
            "overflow_x": null,
            "overflow_y": null,
            "padding": null,
            "right": null,
            "top": null,
            "visibility": null,
            "width": null
          }
        },
        "b864defbb77646f58709d8f7b1e3f24b": {
          "model_module": "@jupyter-widgets/controls",
          "model_name": "DescriptionStyleModel",
          "model_module_version": "1.5.0",
          "state": {
            "_model_module": "@jupyter-widgets/controls",
            "_model_module_version": "1.5.0",
            "_model_name": "DescriptionStyleModel",
            "_view_count": null,
            "_view_module": "@jupyter-widgets/base",
            "_view_module_version": "1.2.0",
            "_view_name": "StyleView",
            "description_width": ""
          }
        },
        "aad3854a8c284f5780d6181767ff51d8": {
          "model_module": "@jupyter-widgets/base",
          "model_name": "LayoutModel",
          "model_module_version": "1.2.0",
          "state": {
            "_model_module": "@jupyter-widgets/base",
            "_model_module_version": "1.2.0",
            "_model_name": "LayoutModel",
            "_view_count": null,
            "_view_module": "@jupyter-widgets/base",
            "_view_module_version": "1.2.0",
            "_view_name": "LayoutView",
            "align_content": null,
            "align_items": null,
            "align_self": null,
            "border": null,
            "bottom": null,
            "display": null,
            "flex": null,
            "flex_flow": null,
            "grid_area": null,
            "grid_auto_columns": null,
            "grid_auto_flow": null,
            "grid_auto_rows": null,
            "grid_column": null,
            "grid_gap": null,
            "grid_row": null,
            "grid_template_areas": null,
            "grid_template_columns": null,
            "grid_template_rows": null,
            "height": null,
            "justify_content": null,
            "justify_items": null,
            "left": null,
            "margin": null,
            "max_height": null,
            "max_width": null,
            "min_height": null,
            "min_width": null,
            "object_fit": null,
            "object_position": null,
            "order": null,
            "overflow": null,
            "overflow_x": null,
            "overflow_y": null,
            "padding": null,
            "right": null,
            "top": null,
            "visibility": null,
            "width": null
          }
        },
        "ef3bf66d6e0c433db6fccd8fa46e5771": {
          "model_module": "@jupyter-widgets/controls",
          "model_name": "ProgressStyleModel",
          "model_module_version": "1.5.0",
          "state": {
            "_model_module": "@jupyter-widgets/controls",
            "_model_module_version": "1.5.0",
            "_model_name": "ProgressStyleModel",
            "_view_count": null,
            "_view_module": "@jupyter-widgets/base",
            "_view_module_version": "1.2.0",
            "_view_name": "StyleView",
            "bar_color": null,
            "description_width": ""
          }
        },
        "575d899e714149c19ba16d647f1ffd97": {
          "model_module": "@jupyter-widgets/base",
          "model_name": "LayoutModel",
          "model_module_version": "1.2.0",
          "state": {
            "_model_module": "@jupyter-widgets/base",
            "_model_module_version": "1.2.0",
            "_model_name": "LayoutModel",
            "_view_count": null,
            "_view_module": "@jupyter-widgets/base",
            "_view_module_version": "1.2.0",
            "_view_name": "LayoutView",
            "align_content": null,
            "align_items": null,
            "align_self": null,
            "border": null,
            "bottom": null,
            "display": null,
            "flex": null,
            "flex_flow": null,
            "grid_area": null,
            "grid_auto_columns": null,
            "grid_auto_flow": null,
            "grid_auto_rows": null,
            "grid_column": null,
            "grid_gap": null,
            "grid_row": null,
            "grid_template_areas": null,
            "grid_template_columns": null,
            "grid_template_rows": null,
            "height": null,
            "justify_content": null,
            "justify_items": null,
            "left": null,
            "margin": null,
            "max_height": null,
            "max_width": null,
            "min_height": null,
            "min_width": null,
            "object_fit": null,
            "object_position": null,
            "order": null,
            "overflow": null,
            "overflow_x": null,
            "overflow_y": null,
            "padding": null,
            "right": null,
            "top": null,
            "visibility": null,
            "width": null
          }
        },
        "916ff806dd134fc9819257ef6f9d874f": {
          "model_module": "@jupyter-widgets/controls",
          "model_name": "DescriptionStyleModel",
          "model_module_version": "1.5.0",
          "state": {
            "_model_module": "@jupyter-widgets/controls",
            "_model_module_version": "1.5.0",
            "_model_name": "DescriptionStyleModel",
            "_view_count": null,
            "_view_module": "@jupyter-widgets/base",
            "_view_module_version": "1.2.0",
            "_view_name": "StyleView",
            "description_width": ""
          }
        }
      }
    }
  },
  "nbformat": 4,
  "nbformat_minor": 0
}